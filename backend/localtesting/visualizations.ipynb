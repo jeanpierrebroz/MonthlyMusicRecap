{
 "cells": [
  {
   "cell_type": "markdown",
   "metadata": {},
   "source": [
    "Imports and connection to database"
   ]
  },
  {
   "cell_type": "code",
   "execution_count": 1,
   "metadata": {},
   "outputs": [
    {
     "name": "stdout",
     "output_type": "stream",
     "text": [
      "Connection successful!\n"
     ]
    }
   ],
   "source": [
    "import psycopg2\n",
    "from psycopg2 import sql\n",
    "from dotenv import dotenv_values\n",
    "import pandas as pd\n",
    "from datetime import datetime, timedelta\n",
    "from bokeh.plotting import figure, show, output_notebook\n",
    "from bokeh.palettes import Category10\n",
    "from bokeh.io import curdoc\n",
    "\n",
    "config = dotenv_values()\n",
    "DB_HOST = config['DB_HOST']\n",
    "DB_NAME = config['DB_NAME']\n",
    "DB_USER = config['DB_USER']\n",
    "DB_PASSWORD = config['DB_PASSWORD']\n",
    "DB_PORT = config['DB_PORT']\n",
    "\n",
    "\n",
    "connection = psycopg2.connect(\n",
    "        host=DB_HOST,\n",
    "        database=DB_NAME,\n",
    "        user=DB_USER,\n",
    "        password=DB_PASSWORD,\n",
    "        port=DB_PORT,\n",
    "        sslmode=\"require\"\n",
    "    )\n",
    "print(\"Connection successful!\")\n",
    "\n",
    "cursor = connection.cursor()\n",
    "\n",
    "# pd.read_sql(\"SELECT * FROM ListeningInstances\", connection, index_col='id')"
   ]
  },
  {
   "cell_type": "markdown",
   "metadata": {},
   "source": [
    "SQL Queries"
   ]
  },
  {
   "cell_type": "code",
   "execution_count": 2,
   "metadata": {},
   "outputs": [
    {
     "name": "stderr",
     "output_type": "stream",
     "text": [
      "/tmp/ipykernel_85265/4106069600.py:1: UserWarning: pandas only supports SQLAlchemy connectable (engine/connection) or database string URI or sqlite3 DBAPI2 connection. Other DBAPI2 objects are not tested. Please consider using SQLAlchemy.\n",
      "  pd.read_sql(\"SELECT MAX(id) FROM ListeningInstances\", connection)\n"
     ]
    },
    {
     "data": {
      "text/html": [
       "<div>\n",
       "<style scoped>\n",
       "    .dataframe tbody tr th:only-of-type {\n",
       "        vertical-align: middle;\n",
       "    }\n",
       "\n",
       "    .dataframe tbody tr th {\n",
       "        vertical-align: top;\n",
       "    }\n",
       "\n",
       "    .dataframe thead th {\n",
       "        text-align: right;\n",
       "    }\n",
       "</style>\n",
       "<table border=\"1\" class=\"dataframe\">\n",
       "  <thead>\n",
       "    <tr style=\"text-align: right;\">\n",
       "      <th></th>\n",
       "      <th>max</th>\n",
       "    </tr>\n",
       "  </thead>\n",
       "  <tbody>\n",
       "    <tr>\n",
       "      <th>0</th>\n",
       "      <td>24882</td>\n",
       "    </tr>\n",
       "  </tbody>\n",
       "</table>\n",
       "</div>"
      ],
      "text/plain": [
       "     max\n",
       "0  24882"
      ]
     },
     "execution_count": 2,
     "metadata": {},
     "output_type": "execute_result"
    }
   ],
   "source": [
    "pd.read_sql(\"SELECT MAX(id) FROM ListeningInstances\", connection)"
   ]
  },
  {
   "cell_type": "code",
   "execution_count": 3,
   "metadata": {},
   "outputs": [
    {
     "name": "stderr",
     "output_type": "stream",
     "text": [
      "/tmp/ipykernel_85265/3780049771.py:57: UserWarning: pandas only supports SQLAlchemy connectable (engine/connection) or database string URI or sqlite3 DBAPI2 connection. Other DBAPI2 objects are not tested. Please consider using SQLAlchemy.\n",
      "  df = pd.read_sql(test, connection)\n"
     ]
    },
    {
     "data": {
      "text/html": [
       "<div>\n",
       "<style scoped>\n",
       "    .dataframe tbody tr th:only-of-type {\n",
       "        vertical-align: middle;\n",
       "    }\n",
       "\n",
       "    .dataframe tbody tr th {\n",
       "        vertical-align: top;\n",
       "    }\n",
       "\n",
       "    .dataframe thead th {\n",
       "        text-align: right;\n",
       "    }\n",
       "</style>\n",
       "<table border=\"1\" class=\"dataframe\">\n",
       "  <thead>\n",
       "    <tr style=\"text-align: right;\">\n",
       "      <th></th>\n",
       "      <th>timestamp</th>\n",
       "      <th>song_fk</th>\n",
       "      <th>genres</th>\n",
       "      <th>cumulative_listens</th>\n",
       "      <th>total_listens</th>\n",
       "    </tr>\n",
       "  </thead>\n",
       "  <tbody>\n",
       "    <tr>\n",
       "      <th>0</th>\n",
       "      <td>2025-08-22 02:42:03.931000+00:00</td>\n",
       "      <td>57CWAcG4JyxR1nTuBsRW4a</td>\n",
       "      <td>unspecified</td>\n",
       "      <td>279.24</td>\n",
       "      <td>78</td>\n",
       "    </tr>\n",
       "    <tr>\n",
       "      <th>1</th>\n",
       "      <td>2025-08-21 05:11:55.050000+00:00</td>\n",
       "      <td>2L4HF8iN9aH2FH7jEs7EV6</td>\n",
       "      <td>unspecified</td>\n",
       "      <td>274.38</td>\n",
       "      <td>78</td>\n",
       "    </tr>\n",
       "    <tr>\n",
       "      <th>2</th>\n",
       "      <td>2025-08-21 04:14:04.119000+00:00</td>\n",
       "      <td>0u5aRUEwlWhtO32VASKoLi</td>\n",
       "      <td>unspecified</td>\n",
       "      <td>269.52</td>\n",
       "      <td>78</td>\n",
       "    </tr>\n",
       "    <tr>\n",
       "      <th>3</th>\n",
       "      <td>2025-08-21 01:24:49.155000+00:00</td>\n",
       "      <td>3hxIUxnT27p5WcmjGUXNwx</td>\n",
       "      <td>unspecified</td>\n",
       "      <td>266.79</td>\n",
       "      <td>78</td>\n",
       "    </tr>\n",
       "    <tr>\n",
       "      <th>4</th>\n",
       "      <td>2025-08-21 01:21:49.388000+00:00</td>\n",
       "      <td>57CWAcG4JyxR1nTuBsRW4a</td>\n",
       "      <td>unspecified</td>\n",
       "      <td>264.05</td>\n",
       "      <td>78</td>\n",
       "    </tr>\n",
       "    <tr>\n",
       "      <th>...</th>\n",
       "      <td>...</td>\n",
       "      <td>...</td>\n",
       "      <td>...</td>\n",
       "      <td>...</td>\n",
       "      <td>...</td>\n",
       "    </tr>\n",
       "    <tr>\n",
       "      <th>965</th>\n",
       "      <td>2025-08-17 06:00:44.758000+00:00</td>\n",
       "      <td>3QVe9gr87GYcRXAkVpPVYl</td>\n",
       "      <td>{weirdcore}</td>\n",
       "      <td>1.58</td>\n",
       "      <td>5</td>\n",
       "    </tr>\n",
       "    <tr>\n",
       "      <th>966</th>\n",
       "      <td>2025-08-16 14:20:26.661000+00:00</td>\n",
       "      <td>46A9awz7xtpDGNeNtaqWMh</td>\n",
       "      <td>nantes indie</td>\n",
       "      <td>1.45</td>\n",
       "      <td>9</td>\n",
       "    </tr>\n",
       "    <tr>\n",
       "      <th>967</th>\n",
       "      <td>2025-08-11 21:25:00.432000+00:00</td>\n",
       "      <td>4LAa9a5VMkk3mN8BHhB93c</td>\n",
       "      <td>{jazz}</td>\n",
       "      <td>1.31</td>\n",
       "      <td>1</td>\n",
       "    </tr>\n",
       "    <tr>\n",
       "      <th>968</th>\n",
       "      <td>2025-08-21 02:01:37.037000+00:00</td>\n",
       "      <td>5omLpU1N0uN51OSXL62VAM</td>\n",
       "      <td>hypnagogic pop</td>\n",
       "      <td>1.16</td>\n",
       "      <td>1</td>\n",
       "    </tr>\n",
       "    <tr>\n",
       "      <th>969</th>\n",
       "      <td>2025-08-16 14:20:26.099000+00:00</td>\n",
       "      <td>3hQ7B0LdBp1ETFr0bvr3i5</td>\n",
       "      <td>{soundtrack}</td>\n",
       "      <td>0.87</td>\n",
       "      <td>26</td>\n",
       "    </tr>\n",
       "  </tbody>\n",
       "</table>\n",
       "<p>970 rows × 5 columns</p>\n",
       "</div>"
      ],
      "text/plain": [
       "                           timestamp                 song_fk          genres  \\\n",
       "0   2025-08-22 02:42:03.931000+00:00  57CWAcG4JyxR1nTuBsRW4a     unspecified   \n",
       "1   2025-08-21 05:11:55.050000+00:00  2L4HF8iN9aH2FH7jEs7EV6     unspecified   \n",
       "2   2025-08-21 04:14:04.119000+00:00  0u5aRUEwlWhtO32VASKoLi     unspecified   \n",
       "3   2025-08-21 01:24:49.155000+00:00  3hxIUxnT27p5WcmjGUXNwx     unspecified   \n",
       "4   2025-08-21 01:21:49.388000+00:00  57CWAcG4JyxR1nTuBsRW4a     unspecified   \n",
       "..                               ...                     ...             ...   \n",
       "965 2025-08-17 06:00:44.758000+00:00  3QVe9gr87GYcRXAkVpPVYl     {weirdcore}   \n",
       "966 2025-08-16 14:20:26.661000+00:00  46A9awz7xtpDGNeNtaqWMh    nantes indie   \n",
       "967 2025-08-11 21:25:00.432000+00:00  4LAa9a5VMkk3mN8BHhB93c          {jazz}   \n",
       "968 2025-08-21 02:01:37.037000+00:00  5omLpU1N0uN51OSXL62VAM  hypnagogic pop   \n",
       "969 2025-08-16 14:20:26.099000+00:00  3hQ7B0LdBp1ETFr0bvr3i5    {soundtrack}   \n",
       "\n",
       "     cumulative_listens  total_listens  \n",
       "0                279.24             78  \n",
       "1                274.38             78  \n",
       "2                269.52             78  \n",
       "3                266.79             78  \n",
       "4                264.05             78  \n",
       "..                  ...            ...  \n",
       "965                1.58              5  \n",
       "966                1.45              9  \n",
       "967                1.31              1  \n",
       "968                1.16              1  \n",
       "969                0.87             26  \n",
       "\n",
       "[970 rows x 5 columns]"
      ]
     },
     "execution_count": 3,
     "metadata": {},
     "output_type": "execute_result"
    }
   ],
   "source": [
    "\n",
    "days_back = 14\n",
    "\n",
    "\n",
    "stamp_back = datetime.now() - timedelta(days=days_back)\n",
    "\n",
    "stamp_back = datetime.isoformat(stamp_back)\n",
    "\n",
    "cumulative_listens_by_song = f'''\n",
    "SELECT \n",
    "    timestamp, song_fk, songs.name,\n",
    "    SUM(1) OVER (\n",
    "        PARTITION BY song_fk \n",
    "        ORDER BY timestamp \n",
    "        RANGE BETWEEN INTERVAL '{days_back}' DAY PRECEDING AND CURRENT ROW\n",
    "    ) AS cumulative_listens\n",
    "FROM ListeningInstances\n",
    "JOIN songs ON song_fk=song_id\n",
    "JOIN artists ON artist_id=artists_fk\n",
    "WHERE user_fk = 'jpbroz'\n",
    "ORDER BY cumulative_listens DESC;\n",
    "'''\n",
    "\n",
    "cumulative_listens_by_artist = f'''\n",
    "SELECT \n",
    "    timestamp, song_fk, artists.genres,\n",
    "    SUM(duration) OVER (\n",
    "        PARTITION BY genres\n",
    "        ORDER BY timestamp \n",
    "        RANGE BETWEEN INTERVAL '{days_back}' DAY PRECEDING AND CURRENT ROW\n",
    "    ) AS cumulative_listens, COUNT(song_fk) AS total_listens\n",
    "FROM ListeningInstances\n",
    "JOIN songs ON song_fk=song_id\n",
    "JOIN artists ON artist_id=artists_fk\n",
    "WHERE user_fk = 'jpbroz' AND genres!= '{{}}' AND timestamp >= '{stamp_back}'\n",
    "ORDER BY cumulative_listens DESC;\n",
    "'''\n",
    "test = f'''\n",
    "SELECT \n",
    "    timestamp, \n",
    "    song_fk, \n",
    "    artists.genres,\n",
    "    SUM(duration) OVER (\n",
    "        PARTITION BY genres\n",
    "        ORDER BY timestamp \n",
    "        RANGE BETWEEN INTERVAL '{days_back}' DAY PRECEDING AND CURRENT ROW\n",
    "    ) AS cumulative_listens,\n",
    "    COUNT(song_fk) OVER (\n",
    "        PARTITION BY genres\n",
    "    ) AS total_listens\n",
    "FROM ListeningInstances\n",
    "JOIN songs ON song_fk = song_id\n",
    "JOIN artists ON artist_id = artists_fk\n",
    "WHERE user_fk = 'jpbroz' AND genres != '{{}}' AND timestamp >= '{stamp_back}'\n",
    "ORDER BY cumulative_listens DESC;\n",
    "'''\n",
    "\n",
    "df = pd.read_sql(test, connection)\n",
    "df"
   ]
  },
  {
   "cell_type": "markdown",
   "metadata": {},
   "source": [
    "Class Definition"
   ]
  },
  {
   "cell_type": "code",
   "execution_count": 4,
   "metadata": {},
   "outputs": [],
   "source": [
    "class Insights():\n",
    "    def __init__(self, connection, username):\n",
    "        self.connection = connection\n",
    "        self.user = username\n",
    "        output_notebook()\n",
    "    def plot_bokeh(self, df, y_col, title, filter_on_id, filter_on,  y_label, k, days_back):\n",
    "        if k > 10:\n",
    "            k = 10\n",
    "        \n",
    "        k=5\n",
    "        \n",
    "        top_k_ids = df[filter_on_id].value_counts().head(k).index\n",
    "        colors = Category10[len(top_k_ids)]\n",
    "        top_k = df[filter_on].value_counts().head(k).index\n",
    "        filtered = df[df[filter_on_id].isin(top_k_ids)]\n",
    "\n",
    "        scaler = 20*k if k>5 else 0\n",
    "\n",
    "        p = figure(\n",
    "            title=title,\n",
    "            x_axis_label=\"Date\",\n",
    "            y_axis_label=y_label,\n",
    "            x_axis_type=\"datetime\",\n",
    "            width=1000 + scaler,\n",
    "            height=600 + scaler\n",
    "            )\n",
    "\n",
    "        p.y_range.bounds = (min(df[y_col]), max(df[y_col])+5)\n",
    "        p.x_range.bounds = (datetime.now() - timedelta(days_back), datetime.now() + timedelta(days=0.5))\n",
    "\n",
    "        i=0\n",
    "        for id, field in zip(top_k_ids, top_k):\n",
    "            song_data = filtered[filtered[filter_on_id] == id]\n",
    "            p.line(\n",
    "                x=song_data['timestamp'],\n",
    "                y=song_data[y_col],\n",
    "                legend_label=field,\n",
    "                line_width=8,\n",
    "                color = colors[i],\n",
    "                line_cap = 'round'\n",
    "            )\n",
    "            i+=1\n",
    "\n",
    "        p.legend.location=\"top_left\"\n",
    "        p.legend.glyph_height=5\n",
    "        curdoc().theme = 'dark_minimal'\n",
    "        show(p)\n",
    "        return p\n",
    "\n",
    "    def cumulative_listens_by_artist(self, days_back):\n",
    "        stamp_back = datetime.now() - timedelta(days=days_back)\n",
    "\n",
    "        stamp_back = datetime.isoformat(stamp_back)\n",
    "\n",
    "        sql = f'''\n",
    "        SELECT \n",
    "            timestamp, artist_id, artists.name,\n",
    "            SUM(1) OVER (\n",
    "                PARTITION BY artist_id \n",
    "                ORDER BY timestamp \n",
    "                RANGE BETWEEN INTERVAL '{days_back}' DAY PRECEDING AND CURRENT ROW\n",
    "            ) AS cumulative_listens\n",
    "        FROM ListeningInstances\n",
    "        JOIN songs ON song_fk=song_id\n",
    "        JOIN artists ON artist_id=artists_fk\n",
    "        WHERE user_fk = '{self.user}' AND timestamp >= '{stamp_back}'\n",
    "        ORDER BY cumulative_listens DESC;\n",
    "        '''\n",
    "        df = pd.read_sql(sql, self.connection)\n",
    "        self.plot_bokeh(df, 'cumulative_listens', f'Cumulative listens by artist over the last {days_back} days', 'artist_id', 'name', '# of Listens', 5, days_back)\n",
    "\n",
    "        # return df \n",
    "\n",
    "    def cumulative_listens_by_song(self, days_back):\n",
    "        stamp_back = datetime.now() - timedelta(days=days_back)\n",
    "\n",
    "        stamp_back = datetime.isoformat(stamp_back)\n",
    "\n",
    "        sql = f'''\n",
    "            SELECT \n",
    "                timestamp, song_fk, songs.name,\n",
    "                SUM(1) OVER (\n",
    "                    PARTITION BY song_fk \n",
    "                    ORDER BY timestamp \n",
    "                    RANGE BETWEEN INTERVAL '{days_back}' DAY PRECEDING AND CURRENT ROW\n",
    "                ) AS cumulative_listens\n",
    "            FROM ListeningInstances\n",
    "            JOIN songs ON song_fk=song_id\n",
    "            JOIN artists ON artist_id=artists_fk\n",
    "            WHERE user_fk = '{self.user}' AND timestamp >= '{stamp_back}'\n",
    "            ORDER BY cumulative_listens DESC;\n",
    "            '''\n",
    "        df = pd.read_sql(sql, self.connection)\n",
    "        fig = self.plot_bokeh(df, 'cumulative_listens', f'Cumulative listens by song over the last {days_back} days', 'song_fk', 'name', '# of Listens', 5, days_back)\n",
    "        print(type(fig))\n",
    "        return fig\n",
    "        # return df \n",
    "    \n",
    "    def cumulative_listens_by_genre(self, days_back):\n",
    "        stamp_back = datetime.now() - timedelta(days=days_back)\n",
    "\n",
    "        stamp_back = datetime.isoformat(stamp_back)\n",
    "\n",
    "        sql = f'''\n",
    "            SELECT \n",
    "                timestamp, song_fk, artists.genres,\n",
    "                SUM(1) OVER (\n",
    "                    PARTITION BY genres\n",
    "                    ORDER BY timestamp \n",
    "                    RANGE BETWEEN INTERVAL '{days_back}' DAY PRECEDING AND CURRENT ROW\n",
    "                ) AS cumulative_listens\n",
    "            FROM ListeningInstances\n",
    "            JOIN songs ON song_fk=song_id\n",
    "            JOIN artists ON artist_id=artists_fk\n",
    "            WHERE user_fk = '{self.user}' AND genres!= '{{}}' AND timestamp >= '{stamp_back}' AND genres!='unspecified'\n",
    "            ORDER BY cumulative_listens DESC;\n",
    "            '''\n",
    "        \n",
    "        df = pd.read_sql(sql, self.connection)\n",
    "        df['genres'] = df['genres'].apply(lambda x : x.strip('{}\"'))\n",
    "        self.plot_bokeh(df, 'cumulative_listens', f'Cumulative listens by genre over the last {days_back} days', 'song_fk', 'genres', '# of Listens', 5, days_back)\n",
    "        # return df \n",
    "\n",
    "    def cumulative_minutes_by_genre(self, days_back):\n",
    "        stamp_back = datetime.now() - timedelta(days=days_back)\n",
    "\n",
    "        stamp_back = datetime.isoformat(stamp_back)\n",
    "\n",
    "        sql = f'''\n",
    "            SELECT \n",
    "                timestamp, song_fk, artists.genres,\n",
    "                SUM(duration) OVER (\n",
    "                    PARTITION BY genres\n",
    "                    ORDER BY timestamp \n",
    "                    RANGE BETWEEN INTERVAL '{days_back}' DAY PRECEDING AND CURRENT ROW\n",
    "                ) AS cumulative_minutes\n",
    "            FROM ListeningInstances\n",
    "            JOIN songs ON song_fk=song_id\n",
    "            JOIN artists ON artist_id=artists_fk\n",
    "            WHERE user_fk = '{self.user}' AND timestamp >= '{stamp_back}' AND genres!='unspecified'\n",
    "            ORDER BY cumulative_minutes DESC;\n",
    "            '''\n",
    "        \n",
    "        df = pd.read_sql(sql, self.connection)\n",
    "        df['genres'] = df['genres'].apply(lambda x : x.strip('{}\"'))\n",
    "        df = df[df['genres']!= '']\n",
    "        self.plot_bokeh(df, 'cumulative_minutes', f'Cumulative minutes listened by genre over the last {days_back} days', 'song_fk', 'genres', 'Minutes', 5, days_back)\n",
    "\n",
    "        # return df     \n",
    "    \n",
    "\n",
    "    def cumulative_minutes_by_song(self, days_back):\n",
    "        stamp_back = datetime.now() - timedelta(days=days_back)\n",
    "\n",
    "        stamp_back = datetime.isoformat(stamp_back)\n",
    "        sql = f'''\n",
    "            SELECT \n",
    "                timestamp, song_fk, songs.name,\n",
    "                SUM(duration) OVER (\n",
    "                    PARTITION BY song_fk \n",
    "                    ORDER BY timestamp \n",
    "                    RANGE BETWEEN INTERVAL '{days_back}' DAY PRECEDING AND CURRENT ROW\n",
    "                ) AS cumulative_minutes\n",
    "            FROM ListeningInstances\n",
    "            JOIN songs ON song_fk=song_id\n",
    "            JOIN artists ON artist_id=artists_fk\n",
    "            WHERE user_fk = '{self.user}' AND timestamp >= '{stamp_back}'\n",
    "            ORDER BY cumulative_minutes DESC;\n",
    "            '''\n",
    "        df = pd.read_sql(sql, self.connection)\n",
    "        self.plot_bokeh(df, 'cumulative_minutes', f'Cumulative minutes listened by song over the last {days_back} days', 'song_fk', 'name', 'Minutes', 5, days_back)\n",
    "        # return df    \n",
    "        \n",
    "    def cumulative_minutes_by_artist(self, days_back):\n",
    "        stamp_back = datetime.now() - timedelta(days=days_back)\n",
    "\n",
    "        stamp_back = datetime.isoformat(stamp_back)\n",
    "        sql = f'''\n",
    "        SELECT \n",
    "            timestamp, artist_id, artists.name,\n",
    "            SUM(duration) OVER (\n",
    "                PARTITION BY artist_id \n",
    "                ORDER BY timestamp \n",
    "                RANGE BETWEEN INTERVAL '{days_back}' DAY PRECEDING AND CURRENT ROW\n",
    "            ) AS cumulative_minutes\n",
    "        FROM ListeningInstances\n",
    "        JOIN songs ON song_fk=song_id\n",
    "        JOIN artists ON artist_id=artists_fk\n",
    "        WHERE user_fk = '{self.user}' AND timestamp >= '{stamp_back}'\n",
    "        ORDER BY cumulative_minutes DESC;\n",
    "        '''\n",
    "        df = pd.read_sql(sql, self.connection)\n",
    "        self.plot_bokeh(df, 'cumulative_minutes', f'Cumulative minutes listened by artist over the last {days_back} days', 'artist_id', 'name', 'Minutes', 5, days_back)\n",
    "\n",
    "        # return df        \n",
    "\n",
    "    def total_listens_by_artist(self, days_back):\n",
    "        stamp_back = datetime.now() - timedelta(days=days_back)\n",
    "\n",
    "        stamp_back = datetime.isoformat(stamp_back)\n",
    "        sql = f'''\n",
    "        SELECT \n",
    "            timestamp, artist_id, artists.name,\n",
    "            COUNT(*) OVER (\n",
    "                PARTITION BY artist_id \n",
    "                ORDER BY timestamp \n",
    "                RANGE BETWEEN INTERVAL '{days_back}' DAY PRECEDING AND CURRENT ROW\n",
    "            ) AS total_listens\n",
    "        FROM ListeningInstances\n",
    "        JOIN songs ON song_fk=song_id\n",
    "        JOIN artists ON artist_id=artists_fk\n",
    "        WHERE user_fk = '{self.user}' AND timestamp >= '{stamp_back}'\n",
    "        ORDER BY total_listens DESC;\n",
    "        '''\n",
    "        df = pd.read_sql(sql, self.connection)\n",
    "        return df\n",
    "    \n"
   ]
  },
  {
   "cell_type": "code",
   "execution_count": 5,
   "metadata": {},
   "outputs": [
    {
     "name": "stderr",
     "output_type": "stream",
     "text": [
      "/tmp/ipykernel_85265/3757476364.py:6: UserWarning: pandas only supports SQLAlchemy connectable (engine/connection) or database string URI or sqlite3 DBAPI2 connection. Other DBAPI2 objects are not tested. Please consider using SQLAlchemy.\n",
      "  pd.read_sql(sql, connection)\n"
     ]
    },
    {
     "data": {
      "text/html": [
       "<div>\n",
       "<style scoped>\n",
       "    .dataframe tbody tr th:only-of-type {\n",
       "        vertical-align: middle;\n",
       "    }\n",
       "\n",
       "    .dataframe tbody tr th {\n",
       "        vertical-align: top;\n",
       "    }\n",
       "\n",
       "    .dataframe thead th {\n",
       "        text-align: right;\n",
       "    }\n",
       "</style>\n",
       "<table border=\"1\" class=\"dataframe\">\n",
       "  <thead>\n",
       "    <tr style=\"text-align: right;\">\n",
       "      <th></th>\n",
       "      <th>username</th>\n",
       "      <th>password</th>\n",
       "      <th>oauth_refresh_token</th>\n",
       "      <th>total_listening_minutes</th>\n",
       "    </tr>\n",
       "  </thead>\n",
       "  <tbody>\n",
       "    <tr>\n",
       "      <th>0</th>\n",
       "      <td>iheartjp</td>\n",
       "      <td>iheartjppassword</td>\n",
       "      <td>AQDfnfXJUNdMGj-pc877U4mydbRdO_xwsQeEZrBZwXCczb...</td>\n",
       "      <td>62910.47</td>\n",
       "    </tr>\n",
       "    <tr>\n",
       "      <th>1</th>\n",
       "      <td>jpbroz</td>\n",
       "      <td>hellovro</td>\n",
       "      <td>AQC4s2INtLv1NgXjIX8MoY95UJfPINlmMag_Q1uC-gGQSO...</td>\n",
       "      <td>90307.92</td>\n",
       "    </tr>\n",
       "    <tr>\n",
       "      <th>2</th>\n",
       "      <td>bodhi_monster</td>\n",
       "      <td>Soccerisfun!1</td>\n",
       "      <td>AQD5z8JHSE-FKwdRpNxpw47hm666n2eSRIsUTZu7WKEiyG...</td>\n",
       "      <td>60153.57</td>\n",
       "    </tr>\n",
       "    <tr>\n",
       "      <th>3</th>\n",
       "      <td>stevenbroz</td>\n",
       "      <td>jpspotifyproject</td>\n",
       "      <td>AQAeliB4kvsUe7V6o_hjsMAsAus2NQAT18Blcd1jb9xWbO...</td>\n",
       "      <td>60955.16</td>\n",
       "    </tr>\n",
       "  </tbody>\n",
       "</table>\n",
       "</div>"
      ],
      "text/plain": [
       "        username          password  \\\n",
       "0       iheartjp  iheartjppassword   \n",
       "1         jpbroz          hellovro   \n",
       "2  bodhi_monster     Soccerisfun!1   \n",
       "3     stevenbroz  jpspotifyproject   \n",
       "\n",
       "                                 oauth_refresh_token  total_listening_minutes  \n",
       "0  AQDfnfXJUNdMGj-pc877U4mydbRdO_xwsQeEZrBZwXCczb...                 62910.47  \n",
       "1  AQC4s2INtLv1NgXjIX8MoY95UJfPINlmMag_Q1uC-gGQSO...                 90307.92  \n",
       "2  AQD5z8JHSE-FKwdRpNxpw47hm666n2eSRIsUTZu7WKEiyG...                 60153.57  \n",
       "3  AQAeliB4kvsUe7V6o_hjsMAsAus2NQAT18Blcd1jb9xWbO...                 60955.16  "
      ]
     },
     "execution_count": 5,
     "metadata": {},
     "output_type": "execute_result"
    }
   ],
   "source": [
    "# connection.rollback()\n",
    "sql = \"DELETE FROM Users WHERE username='andrewbroz';\"\n",
    "cursor.execute(sql)\n",
    "connection.commit()\n",
    "sql='SELECT * FROM Users;'\n",
    "pd.read_sql(sql, connection)"
   ]
  },
  {
   "cell_type": "markdown",
   "metadata": {},
   "source": []
  },
  {
   "cell_type": "markdown",
   "metadata": {},
   "source": [
    "Save all to csv"
   ]
  },
  {
   "cell_type": "code",
   "execution_count": 7,
   "metadata": {},
   "outputs": [
    {
     "data": {
      "text/html": [
       "    <style>\n",
       "        .bk-notebook-logo {\n",
       "            display: block;\n",
       "            width: 20px;\n",
       "            height: 20px;\n",
       "            background-image: url(data:image/png;base64,iVBORw0KGgoAAAANSUhEUgAAABQAAAAUCAYAAACNiR0NAAAABHNCSVQICAgIfAhkiAAAAAlwSFlzAAALEgAACxIB0t1+/AAAABx0RVh0U29mdHdhcmUAQWRvYmUgRmlyZXdvcmtzIENTNui8sowAAAOkSURBVDiNjZRtaJVlGMd/1/08zzln5zjP1LWcU9N0NkN8m2CYjpgQYQXqSs0I84OLIC0hkEKoPtiH3gmKoiJDU7QpLgoLjLIQCpEsNJ1vqUOdO7ppbuec5+V+rj4ctwzd8IIbbi6u+8f1539dt3A78eXC7QizUF7gyV1fD1Yqg4JWz84yffhm0qkFqBogB9rM8tZdtwVsPUhWhGcFJngGeWrPzHm5oaMmkfEg1usvLFyc8jLRqDOMru7AyC8saQr7GG7f5fvDeH7Ej8CM66nIF+8yngt6HWaKh7k49Soy9nXurCi1o3qUbS3zWfrYeQDTB/Qj6kX6Ybhw4B+bOYoLKCC9H3Nu/leUTZ1JdRWkkn2ldcCamzrcf47KKXdAJllSlxAOkRgyHsGC/zRday5Qld9DyoM4/q/rUoy/CXh3jzOu3bHUVZeU+DEn8FInkPBFlu3+nW3Nw0mk6vCDiWg8CeJaxEwuHS3+z5RgY+YBR6V1Z1nxSOfoaPa4LASWxxdNp+VWTk7+4vzaou8v8PN+xo+KY2xsw6une2frhw05CTYOmQvsEhjhWjn0bmXPjpE1+kplmmkP3suftwTubK9Vq22qKmrBhpY4jvd5afdRA3wGjFAgcnTK2s4hY0/GPNIb0nErGMCRxWOOX64Z8RAC4oCXdklmEvcL8o0BfkNK4lUg9HTl+oPlQxdNo3Mg4Nv175e/1LDGzZen30MEjRUtmXSfiTVu1kK8W4txyV6BMKlbgk3lMwYCiusNy9fVfvvwMxv8Ynl6vxoByANLTWplvuj/nF9m2+PDtt1eiHPBr1oIfhCChQMBw6Aw0UulqTKZdfVvfG7VcfIqLG9bcldL/+pdWTLxLUy8Qq38heUIjh4XlzZxzQm19lLFlr8vdQ97rjZVOLf8nclzckbcD4wxXMidpX30sFd37Fv/GtwwhzhxGVAprjbg0gCAEeIgwCZyTV2Z1REEW8O4py0wsjeloKoMr6iCY6dP92H6Vw/oTyICIthibxjm/DfN9lVz8IqtqKYLUXfoKVMVQVVJOElGjrnnUt9T9wbgp8AyYKaGlqingHZU/uG2NTZSVqwHQTWkx9hxjkpWDaCg6Ckj5qebgBVbT3V3NNXMSiWSDdGV3hrtzla7J+duwPOToIg42ChPQOQjspnSlp1V+Gjdged7+8UN5CRAV7a5EdFNwCjEaBR27b3W890TE7g24NAP/mMDXRWrGoFPQI9ls/MWO2dWFAar/xcOIImbbpA3zgAAAABJRU5ErkJggg==);\n",
       "        }\n",
       "    </style>\n",
       "    <div>\n",
       "        <a href=\"https://bokeh.org\" target=\"_blank\" class=\"bk-notebook-logo\"></a>\n",
       "        <span id=\"b97fdd04-9fc9-4fa8-a989-55a0f0a0e4d4\">Loading BokehJS ...</span>\n",
       "    </div>\n"
      ]
     },
     "metadata": {},
     "output_type": "display_data"
    },
    {
     "data": {
      "application/javascript": "'use strict';\n(function(root) {\n  function now() {\n    return new Date();\n  }\n\n  const force = true;\n\n  if (typeof root._bokeh_onload_callbacks === \"undefined\" || force === true) {\n    root._bokeh_onload_callbacks = [];\n    root._bokeh_is_loading = undefined;\n  }\n\nconst JS_MIME_TYPE = 'application/javascript';\n  const HTML_MIME_TYPE = 'text/html';\n  const EXEC_MIME_TYPE = 'application/vnd.bokehjs_exec.v0+json';\n  const CLASS_NAME = 'output_bokeh rendered_html';\n\n  /**\n   * Render data to the DOM node\n   */\n  function render(props, node) {\n    const script = document.createElement(\"script\");\n    node.appendChild(script);\n  }\n\n  /**\n   * Handle when an output is cleared or removed\n   */\n  function handleClearOutput(event, handle) {\n    function drop(id) {\n      const view = Bokeh.index.get_by_id(id)\n      if (view != null) {\n        view.model.document.clear()\n        Bokeh.index.delete(view)\n      }\n    }\n\n    const cell = handle.cell;\n\n    const id = cell.output_area._bokeh_element_id;\n    const server_id = cell.output_area._bokeh_server_id;\n\n    // Clean up Bokeh references\n    if (id != null) {\n      drop(id)\n    }\n\n    if (server_id !== undefined) {\n      // Clean up Bokeh references\n      const cmd_clean = \"from bokeh.io.state import curstate; print(curstate().uuid_to_server['\" + server_id + \"'].get_sessions()[0].document.roots[0]._id)\";\n      cell.notebook.kernel.execute(cmd_clean, {\n        iopub: {\n          output: function(msg) {\n            const id = msg.content.text.trim()\n            drop(id)\n          }\n        }\n      });\n      // Destroy server and session\n      const cmd_destroy = \"import bokeh.io.notebook as ion; ion.destroy_server('\" + server_id + \"')\";\n      cell.notebook.kernel.execute(cmd_destroy);\n    }\n  }\n\n  /**\n   * Handle when a new output is added\n   */\n  function handleAddOutput(event, handle) {\n    const output_area = handle.output_area;\n    const output = handle.output;\n\n    // limit handleAddOutput to display_data with EXEC_MIME_TYPE content only\n    if ((output.output_type != \"display_data\") || (!Object.prototype.hasOwnProperty.call(output.data, EXEC_MIME_TYPE))) {\n      return\n    }\n\n    const toinsert = output_area.element.find(\".\" + CLASS_NAME.split(' ')[0]);\n\n    if (output.metadata[EXEC_MIME_TYPE][\"id\"] !== undefined) {\n      toinsert[toinsert.length - 1].firstChild.textContent = output.data[JS_MIME_TYPE];\n      // store reference to embed id on output_area\n      output_area._bokeh_element_id = output.metadata[EXEC_MIME_TYPE][\"id\"];\n    }\n    if (output.metadata[EXEC_MIME_TYPE][\"server_id\"] !== undefined) {\n      const bk_div = document.createElement(\"div\");\n      bk_div.innerHTML = output.data[HTML_MIME_TYPE];\n      const script_attrs = bk_div.children[0].attributes;\n      for (let i = 0; i < script_attrs.length; i++) {\n        toinsert[toinsert.length - 1].firstChild.setAttribute(script_attrs[i].name, script_attrs[i].value);\n        toinsert[toinsert.length - 1].firstChild.textContent = bk_div.children[0].textContent\n      }\n      // store reference to server id on output_area\n      output_area._bokeh_server_id = output.metadata[EXEC_MIME_TYPE][\"server_id\"];\n    }\n  }\n\n  function register_renderer(events, OutputArea) {\n\n    function append_mime(data, metadata, element) {\n      // create a DOM node to render to\n      const toinsert = this.create_output_subarea(\n        metadata,\n        CLASS_NAME,\n        EXEC_MIME_TYPE\n      );\n      this.keyboard_manager.register_events(toinsert);\n      // Render to node\n      const props = {data: data, metadata: metadata[EXEC_MIME_TYPE]};\n      render(props, toinsert[toinsert.length - 1]);\n      element.append(toinsert);\n      return toinsert\n    }\n\n    /* Handle when an output is cleared or removed */\n    events.on('clear_output.CodeCell', handleClearOutput);\n    events.on('delete.Cell', handleClearOutput);\n\n    /* Handle when a new output is added */\n    events.on('output_added.OutputArea', handleAddOutput);\n\n    /**\n     * Register the mime type and append_mime function with output_area\n     */\n    OutputArea.prototype.register_mime_type(EXEC_MIME_TYPE, append_mime, {\n      /* Is output safe? */\n      safe: true,\n      /* Index of renderer in `output_area.display_order` */\n      index: 0\n    });\n  }\n\n  // register the mime type if in Jupyter Notebook environment and previously unregistered\n  if (root.Jupyter !== undefined) {\n    const events = require('base/js/events');\n    const OutputArea = require('notebook/js/outputarea').OutputArea;\n\n    if (OutputArea.prototype.mime_types().indexOf(EXEC_MIME_TYPE) == -1) {\n      register_renderer(events, OutputArea);\n    }\n  }\n  if (typeof (root._bokeh_timeout) === \"undefined\" || force === true) {\n    root._bokeh_timeout = Date.now() + 5000;\n    root._bokeh_failed_load = false;\n  }\n\n  const NB_LOAD_WARNING = {'data': {'text/html':\n     \"<div style='background-color: #fdd'>\\n\"+\n     \"<p>\\n\"+\n     \"BokehJS does not appear to have successfully loaded. If loading BokehJS from CDN, this \\n\"+\n     \"may be due to a slow or bad network connection. Possible fixes:\\n\"+\n     \"</p>\\n\"+\n     \"<ul>\\n\"+\n     \"<li>re-rerun `output_notebook()` to attempt to load from CDN again, or</li>\\n\"+\n     \"<li>use INLINE resources instead, as so:</li>\\n\"+\n     \"</ul>\\n\"+\n     \"<code>\\n\"+\n     \"from bokeh.resources import INLINE\\n\"+\n     \"output_notebook(resources=INLINE)\\n\"+\n     \"</code>\\n\"+\n     \"</div>\"}};\n\n  function display_loaded(error = null) {\n    const el = document.getElementById(\"b97fdd04-9fc9-4fa8-a989-55a0f0a0e4d4\");\n    if (el != null) {\n      const html = (() => {\n        if (typeof root.Bokeh === \"undefined\") {\n          if (error == null) {\n            return \"BokehJS is loading ...\";\n          } else {\n            return \"BokehJS failed to load.\";\n          }\n        } else {\n          const prefix = `BokehJS ${root.Bokeh.version}`;\n          if (error == null) {\n            return `${prefix} successfully loaded.`;\n          } else {\n            return `${prefix} <b>encountered errors</b> while loading and may not function as expected.`;\n          }\n        }\n      })();\n      el.innerHTML = html;\n\n      if (error != null) {\n        const wrapper = document.createElement(\"div\");\n        wrapper.style.overflow = \"auto\";\n        wrapper.style.height = \"5em\";\n        wrapper.style.resize = \"vertical\";\n        const content = document.createElement(\"div\");\n        content.style.fontFamily = \"monospace\";\n        content.style.whiteSpace = \"pre-wrap\";\n        content.style.backgroundColor = \"rgb(255, 221, 221)\";\n        content.textContent = error.stack ?? error.toString();\n        wrapper.append(content);\n        el.append(wrapper);\n      }\n    } else if (Date.now() < root._bokeh_timeout) {\n      setTimeout(() => display_loaded(error), 100);\n    }\n  }\n\n  function run_callbacks() {\n    try {\n      root._bokeh_onload_callbacks.forEach(function(callback) {\n        if (callback != null)\n          callback();\n      });\n    } finally {\n      delete root._bokeh_onload_callbacks\n    }\n    console.debug(\"Bokeh: all callbacks have finished\");\n  }\n\n  function load_libs(css_urls, js_urls, callback) {\n    if (css_urls == null) css_urls = [];\n    if (js_urls == null) js_urls = [];\n\n    root._bokeh_onload_callbacks.push(callback);\n    if (root._bokeh_is_loading > 0) {\n      console.debug(\"Bokeh: BokehJS is being loaded, scheduling callback at\", now());\n      return null;\n    }\n    if (js_urls == null || js_urls.length === 0) {\n      run_callbacks();\n      return null;\n    }\n    console.debug(\"Bokeh: BokehJS not loaded, scheduling load and callback at\", now());\n    root._bokeh_is_loading = css_urls.length + js_urls.length;\n\n    function on_load() {\n      root._bokeh_is_loading--;\n      if (root._bokeh_is_loading === 0) {\n        console.debug(\"Bokeh: all BokehJS libraries/stylesheets loaded\");\n        run_callbacks()\n      }\n    }\n\n    function on_error(url) {\n      console.error(\"failed to load \" + url);\n    }\n\n    for (let i = 0; i < css_urls.length; i++) {\n      const url = css_urls[i];\n      const element = document.createElement(\"link\");\n      element.onload = on_load;\n      element.onerror = on_error.bind(null, url);\n      element.rel = \"stylesheet\";\n      element.type = \"text/css\";\n      element.href = url;\n      console.debug(\"Bokeh: injecting link tag for BokehJS stylesheet: \", url);\n      document.body.appendChild(element);\n    }\n\n    for (let i = 0; i < js_urls.length; i++) {\n      const url = js_urls[i];\n      const element = document.createElement('script');\n      element.onload = on_load;\n      element.onerror = on_error.bind(null, url);\n      element.async = false;\n      element.src = url;\n      console.debug(\"Bokeh: injecting script tag for BokehJS library: \", url);\n      document.head.appendChild(element);\n    }\n  };\n\n  function inject_raw_css(css) {\n    const element = document.createElement(\"style\");\n    element.appendChild(document.createTextNode(css));\n    document.body.appendChild(element);\n  }\n\n  const js_urls = [\"https://cdn.bokeh.org/bokeh/release/bokeh-3.6.0.min.js\", \"https://cdn.bokeh.org/bokeh/release/bokeh-gl-3.6.0.min.js\", \"https://cdn.bokeh.org/bokeh/release/bokeh-widgets-3.6.0.min.js\", \"https://cdn.bokeh.org/bokeh/release/bokeh-tables-3.6.0.min.js\", \"https://cdn.bokeh.org/bokeh/release/bokeh-mathjax-3.6.0.min.js\"];\n  const css_urls = [];\n\n  const inline_js = [    function(Bokeh) {\n      Bokeh.set_log_level(\"info\");\n    },\nfunction(Bokeh) {\n    }\n  ];\n\n  function run_inline_js() {\n    if (root.Bokeh !== undefined || force === true) {\n      try {\n            for (let i = 0; i < inline_js.length; i++) {\n      inline_js[i].call(root, root.Bokeh);\n    }\n\n      } catch (error) {display_loaded(error);throw error;\n      }if (force === true) {\n        display_loaded();\n      }} else if (Date.now() < root._bokeh_timeout) {\n      setTimeout(run_inline_js, 100);\n    } else if (!root._bokeh_failed_load) {\n      console.log(\"Bokeh: BokehJS failed to load within specified timeout.\");\n      root._bokeh_failed_load = true;\n    } else if (force !== true) {\n      const cell = $(document.getElementById(\"b97fdd04-9fc9-4fa8-a989-55a0f0a0e4d4\")).parents('.cell').data().cell;\n      cell.output_area.append_execute_result(NB_LOAD_WARNING)\n    }\n  }\n\n  if (root._bokeh_is_loading === 0) {\n    console.debug(\"Bokeh: BokehJS loaded, going straight to plotting\");\n    run_inline_js();\n  } else {\n    load_libs(css_urls, js_urls, function() {\n      console.debug(\"Bokeh: BokehJS plotting callback run at\", now());\n      run_inline_js();\n    });\n  }\n}(window));",
      "application/vnd.bokehjs_load.v0+json": ""
     },
     "metadata": {},
     "output_type": "display_data"
    },
    {
     "name": "stderr",
     "output_type": "stream",
     "text": [
      "C:\\Users\\jpotr\\AppData\\Local\\Temp\\ipykernel_16396\\3873170367.py:93: UserWarning: pandas only supports SQLAlchemy connectable (engine/connection) or database string URI or sqlite3 DBAPI2 connection. Other DBAPI2 objects are not tested. Please consider using SQLAlchemy.\n",
      "  df = pd.read_sql(sql, self.connection)\n"
     ]
    },
    {
     "data": {
      "text/html": [
       "\n",
       "  <div id=\"e01aaaba-1fd7-40d8-8242-2ecc4f41110c\" data-root-id=\"p1385\" style=\"display: contents;\"></div>\n"
      ]
     },
     "metadata": {},
     "output_type": "display_data"
    },
    {
     "data": {
      "application/javascript": "(function(root) {\n  function embed_document(root) {\n  const docs_json = {\"ece35bc5-ed97-4e98-91dd-1ec2ef87166e\":{\"version\":\"3.6.0\",\"title\":\"Bokeh Application\",\"roots\":[{\"type\":\"object\",\"name\":\"Figure\",\"id\":\"p1385\",\"attributes\":{\"width\":1000,\"x_range\":{\"type\":\"object\",\"name\":\"DataRange1d\",\"id\":\"p1386\",\"attributes\":{\"bounds\":[1732983993170.6582,1735619193170.6582]}},\"y_range\":{\"type\":\"object\",\"name\":\"DataRange1d\",\"id\":\"p1387\",\"attributes\":{\"bounds\":[1,18]}},\"x_scale\":{\"type\":\"object\",\"name\":\"LinearScale\",\"id\":\"p1395\"},\"y_scale\":{\"type\":\"object\",\"name\":\"LinearScale\",\"id\":\"p1396\"},\"title\":{\"type\":\"object\",\"name\":\"Title\",\"id\":\"p1388\",\"attributes\":{\"text\":\"Cumulative listens by song over the last 30 days\",\"text_color\":\"#E0E0E0\",\"text_font\":\"Helvetica\",\"text_font_size\":\"1.15em\"}},\"outline_line_color\":\"#E0E0E0\",\"outline_line_alpha\":0.25,\"renderers\":[{\"type\":\"object\",\"name\":\"GlyphRenderer\",\"id\":\"p1438\",\"attributes\":{\"data_source\":{\"type\":\"object\",\"name\":\"ColumnDataSource\",\"id\":\"p1432\",\"attributes\":{\"selected\":{\"type\":\"object\",\"name\":\"Selection\",\"id\":\"p1433\",\"attributes\":{\"indices\":[],\"line_indices\":[]}},\"selection_policy\":{\"type\":\"object\",\"name\":\"UnionRenderers\",\"id\":\"p1434\"},\"data\":{\"type\":\"map\",\"entries\":[[\"x\",{\"type\":\"ndarray\",\"array\":{\"type\":\"bytes\",\"data\":\"AFCB2xdAeUIAQMkUdj95QgDw+dAkP3lCAIClTgw/eUIAcFKNyz55QgBgTQ1fPnlCAFDB/Vw+eUIA4GHyXD55QgDwOCbaPXlCAKAKtn49eUIA4CzKMT15QgAwWS27PHlCAHA+yI48eUI=\"},\"shape\":[13],\"dtype\":\"float64\",\"order\":\"little\"}],[\"y\",{\"type\":\"ndarray\",\"array\":{\"type\":\"bytes\",\"data\":\"DQAAAAwAAAALAAAACgAAAAkAAAAIAAAABwAAAAYAAAAFAAAABAAAAAMAAAACAAAAAQAAAA==\"},\"shape\":[13],\"dtype\":\"int32\",\"order\":\"little\"}]]}}},\"view\":{\"type\":\"object\",\"name\":\"CDSView\",\"id\":\"p1439\",\"attributes\":{\"filter\":{\"type\":\"object\",\"name\":\"AllIndices\",\"id\":\"p1440\"}}},\"glyph\":{\"type\":\"object\",\"name\":\"Line\",\"id\":\"p1435\",\"attributes\":{\"x\":{\"type\":\"field\",\"field\":\"x\"},\"y\":{\"type\":\"field\",\"field\":\"y\"},\"line_color\":\"#1f77b4\",\"line_width\":8,\"line_cap\":\"round\"}},\"nonselection_glyph\":{\"type\":\"object\",\"name\":\"Line\",\"id\":\"p1436\",\"attributes\":{\"x\":{\"type\":\"field\",\"field\":\"x\"},\"y\":{\"type\":\"field\",\"field\":\"y\"},\"line_color\":\"#1f77b4\",\"line_alpha\":0.1,\"line_width\":8,\"line_cap\":\"round\"}},\"muted_glyph\":{\"type\":\"object\",\"name\":\"Line\",\"id\":\"p1437\",\"attributes\":{\"x\":{\"type\":\"field\",\"field\":\"x\"},\"y\":{\"type\":\"field\",\"field\":\"y\"},\"line_color\":\"#1f77b4\",\"line_alpha\":0.2,\"line_width\":8,\"line_cap\":\"round\"}}}},{\"type\":\"object\",\"name\":\"GlyphRenderer\",\"id\":\"p1449\",\"attributes\":{\"data_source\":{\"type\":\"object\",\"name\":\"ColumnDataSource\",\"id\":\"p1443\",\"attributes\":{\"selected\":{\"type\":\"object\",\"name\":\"Selection\",\"id\":\"p1444\",\"attributes\":{\"indices\":[],\"line_indices\":[]}},\"selection_policy\":{\"type\":\"object\",\"name\":\"UnionRenderers\",\"id\":\"p1445\"},\"data\":{\"type\":\"map\",\"entries\":[[\"x\",{\"type\":\"ndarray\",\"array\":{\"type\":\"bytes\",\"data\":\"AKB7xBpAeUIAoLeSdz95QgBQRT4MP3lCAFDQFdo9eUIAUMe5MT15QgDgCXUTPXlCAOCSJBM9eUIAcE2d1Dx5QgDwhcvQPHlCADA9F7s8eUIAsFbbujx5QgBA1Ie6PHlC\"},\"shape\":[12],\"dtype\":\"float64\",\"order\":\"little\"}],[\"y\",{\"type\":\"ndarray\",\"array\":{\"type\":\"bytes\",\"data\":\"DAAAAAsAAAAKAAAACQAAAAgAAAAHAAAABgAAAAUAAAAEAAAAAwAAAAIAAAABAAAA\"},\"shape\":[12],\"dtype\":\"int32\",\"order\":\"little\"}]]}}},\"view\":{\"type\":\"object\",\"name\":\"CDSView\",\"id\":\"p1450\",\"attributes\":{\"filter\":{\"type\":\"object\",\"name\":\"AllIndices\",\"id\":\"p1451\"}}},\"glyph\":{\"type\":\"object\",\"name\":\"Line\",\"id\":\"p1446\",\"attributes\":{\"x\":{\"type\":\"field\",\"field\":\"x\"},\"y\":{\"type\":\"field\",\"field\":\"y\"},\"line_color\":\"#ff7f0e\",\"line_width\":8,\"line_cap\":\"round\"}},\"nonselection_glyph\":{\"type\":\"object\",\"name\":\"Line\",\"id\":\"p1447\",\"attributes\":{\"x\":{\"type\":\"field\",\"field\":\"x\"},\"y\":{\"type\":\"field\",\"field\":\"y\"},\"line_color\":\"#ff7f0e\",\"line_alpha\":0.1,\"line_width\":8,\"line_cap\":\"round\"}},\"muted_glyph\":{\"type\":\"object\",\"name\":\"Line\",\"id\":\"p1448\",\"attributes\":{\"x\":{\"type\":\"field\",\"field\":\"x\"},\"y\":{\"type\":\"field\",\"field\":\"y\"},\"line_color\":\"#ff7f0e\",\"line_alpha\":0.2,\"line_width\":8,\"line_cap\":\"round\"}}}},{\"type\":\"object\",\"name\":\"GlyphRenderer\",\"id\":\"p1459\",\"attributes\":{\"data_source\":{\"type\":\"object\",\"name\":\"ColumnDataSource\",\"id\":\"p1453\",\"attributes\":{\"selected\":{\"type\":\"object\",\"name\":\"Selection\",\"id\":\"p1454\",\"attributes\":{\"indices\":[],\"line_indices\":[]}},\"selection_policy\":{\"type\":\"object\",\"name\":\"UnionRenderers\",\"id\":\"p1455\"},\"data\":{\"type\":\"map\",\"entries\":[[\"x\",{\"type\":\"ndarray\",\"array\":{\"type\":\"bytes\",\"data\":\"AKCEwRNAeUIAQHJzcj95QgDw/nAkP3lCAHAdggw/eUIAgJDhyz55QgCAh2FfPnlCAGBCCts9eUIA4JyNfz15QgAgyjcyPXlCALBdxhU9eUIAMHkcjzx5Qg==\"},\"shape\":[11],\"dtype\":\"float64\",\"order\":\"little\"}],[\"y\",{\"type\":\"ndarray\",\"array\":{\"type\":\"bytes\",\"data\":\"CwAAAAoAAAAJAAAACAAAAAcAAAAGAAAABQAAAAQAAAADAAAAAgAAAAEAAAA=\"},\"shape\":[11],\"dtype\":\"int32\",\"order\":\"little\"}]]}}},\"view\":{\"type\":\"object\",\"name\":\"CDSView\",\"id\":\"p1460\",\"attributes\":{\"filter\":{\"type\":\"object\",\"name\":\"AllIndices\",\"id\":\"p1461\"}}},\"glyph\":{\"type\":\"object\",\"name\":\"Line\",\"id\":\"p1456\",\"attributes\":{\"x\":{\"type\":\"field\",\"field\":\"x\"},\"y\":{\"type\":\"field\",\"field\":\"y\"},\"line_color\":\"#2ca02c\",\"line_width\":8,\"line_cap\":\"round\"}},\"nonselection_glyph\":{\"type\":\"object\",\"name\":\"Line\",\"id\":\"p1457\",\"attributes\":{\"x\":{\"type\":\"field\",\"field\":\"x\"},\"y\":{\"type\":\"field\",\"field\":\"y\"},\"line_color\":\"#2ca02c\",\"line_alpha\":0.1,\"line_width\":8,\"line_cap\":\"round\"}},\"muted_glyph\":{\"type\":\"object\",\"name\":\"Line\",\"id\":\"p1458\",\"attributes\":{\"x\":{\"type\":\"field\",\"field\":\"x\"},\"y\":{\"type\":\"field\",\"field\":\"y\"},\"line_color\":\"#2ca02c\",\"line_alpha\":0.2,\"line_width\":8,\"line_cap\":\"round\"}}}},{\"type\":\"object\",\"name\":\"GlyphRenderer\",\"id\":\"p1469\",\"attributes\":{\"data_source\":{\"type\":\"object\",\"name\":\"ColumnDataSource\",\"id\":\"p1463\",\"attributes\":{\"selected\":{\"type\":\"object\",\"name\":\"Selection\",\"id\":\"p1464\",\"attributes\":{\"indices\":[],\"line_indices\":[]}},\"selection_policy\":{\"type\":\"object\",\"name\":\"UnionRenderers\",\"id\":\"p1465\"},\"data\":{\"type\":\"map\",\"entries\":[[\"x\",{\"type\":\"ndarray\",\"array\":{\"type\":\"bytes\",\"data\":\"APBz4RpAeUIAMG9mE0B5QgDwFaZ1P3lCADB1WgQ/eUIAkJPUzD55QgDAilRgPnlCACD/0n49eUIAoMf9Kj15QgDAfA+QPHlC\"},\"shape\":[9],\"dtype\":\"float64\",\"order\":\"little\"}],[\"y\",{\"type\":\"ndarray\",\"array\":{\"type\":\"bytes\",\"data\":\"CQAAAAgAAAAHAAAABgAAAAUAAAAEAAAAAwAAAAIAAAABAAAA\"},\"shape\":[9],\"dtype\":\"int32\",\"order\":\"little\"}]]}}},\"view\":{\"type\":\"object\",\"name\":\"CDSView\",\"id\":\"p1470\",\"attributes\":{\"filter\":{\"type\":\"object\",\"name\":\"AllIndices\",\"id\":\"p1471\"}}},\"glyph\":{\"type\":\"object\",\"name\":\"Line\",\"id\":\"p1466\",\"attributes\":{\"x\":{\"type\":\"field\",\"field\":\"x\"},\"y\":{\"type\":\"field\",\"field\":\"y\"},\"line_color\":\"#d62728\",\"line_width\":8,\"line_cap\":\"round\"}},\"nonselection_glyph\":{\"type\":\"object\",\"name\":\"Line\",\"id\":\"p1467\",\"attributes\":{\"x\":{\"type\":\"field\",\"field\":\"x\"},\"y\":{\"type\":\"field\",\"field\":\"y\"},\"line_color\":\"#d62728\",\"line_alpha\":0.1,\"line_width\":8,\"line_cap\":\"round\"}},\"muted_glyph\":{\"type\":\"object\",\"name\":\"Line\",\"id\":\"p1468\",\"attributes\":{\"x\":{\"type\":\"field\",\"field\":\"x\"},\"y\":{\"type\":\"field\",\"field\":\"y\"},\"line_color\":\"#d62728\",\"line_alpha\":0.2,\"line_width\":8,\"line_cap\":\"round\"}}}},{\"type\":\"object\",\"name\":\"GlyphRenderer\",\"id\":\"p1479\",\"attributes\":{\"data_source\":{\"type\":\"object\",\"name\":\"ColumnDataSource\",\"id\":\"p1473\",\"attributes\":{\"selected\":{\"type\":\"object\",\"name\":\"Selection\",\"id\":\"p1474\",\"attributes\":{\"indices\":[],\"line_indices\":[]}},\"selection_policy\":{\"type\":\"object\",\"name\":\"UnionRenderers\",\"id\":\"p1475\"},\"data\":{\"type\":\"map\",\"entries\":[[\"x\",{\"type\":\"ndarray\",\"array\":{\"type\":\"bytes\",\"data\":\"AEBmEBtAeUIA4K4NdD95QgAgnYtpP3lCADCxIyU/eUIAANw6Iz95QgCwbp8GP3lCAKAd1nA9eUIAgIYs2Tx5QgBAmiQxPHlC\"},\"shape\":[9],\"dtype\":\"float64\",\"order\":\"little\"}],[\"y\",{\"type\":\"ndarray\",\"array\":{\"type\":\"bytes\",\"data\":\"CQAAAAgAAAAHAAAABgAAAAUAAAAEAAAAAwAAAAIAAAABAAAA\"},\"shape\":[9],\"dtype\":\"int32\",\"order\":\"little\"}]]}}},\"view\":{\"type\":\"object\",\"name\":\"CDSView\",\"id\":\"p1480\",\"attributes\":{\"filter\":{\"type\":\"object\",\"name\":\"AllIndices\",\"id\":\"p1481\"}}},\"glyph\":{\"type\":\"object\",\"name\":\"Line\",\"id\":\"p1476\",\"attributes\":{\"x\":{\"type\":\"field\",\"field\":\"x\"},\"y\":{\"type\":\"field\",\"field\":\"y\"},\"line_color\":\"#9467bd\",\"line_width\":8,\"line_cap\":\"round\"}},\"nonselection_glyph\":{\"type\":\"object\",\"name\":\"Line\",\"id\":\"p1477\",\"attributes\":{\"x\":{\"type\":\"field\",\"field\":\"x\"},\"y\":{\"type\":\"field\",\"field\":\"y\"},\"line_color\":\"#9467bd\",\"line_alpha\":0.1,\"line_width\":8,\"line_cap\":\"round\"}},\"muted_glyph\":{\"type\":\"object\",\"name\":\"Line\",\"id\":\"p1478\",\"attributes\":{\"x\":{\"type\":\"field\",\"field\":\"x\"},\"y\":{\"type\":\"field\",\"field\":\"y\"},\"line_color\":\"#9467bd\",\"line_alpha\":0.2,\"line_width\":8,\"line_cap\":\"round\"}}}}],\"toolbar\":{\"type\":\"object\",\"name\":\"Toolbar\",\"id\":\"p1394\",\"attributes\":{\"tools\":[{\"type\":\"object\",\"name\":\"PanTool\",\"id\":\"p1419\"},{\"type\":\"object\",\"name\":\"WheelZoomTool\",\"id\":\"p1420\",\"attributes\":{\"renderers\":\"auto\"}},{\"type\":\"object\",\"name\":\"BoxZoomTool\",\"id\":\"p1421\",\"attributes\":{\"overlay\":{\"type\":\"object\",\"name\":\"BoxAnnotation\",\"id\":\"p1422\",\"attributes\":{\"syncable\":false,\"line_color\":\"black\",\"line_alpha\":1.0,\"line_width\":2,\"line_dash\":[4,4],\"fill_color\":\"lightgrey\",\"fill_alpha\":0.5,\"level\":\"overlay\",\"visible\":false,\"left\":{\"type\":\"number\",\"value\":\"nan\"},\"right\":{\"type\":\"number\",\"value\":\"nan\"},\"top\":{\"type\":\"number\",\"value\":\"nan\"},\"bottom\":{\"type\":\"number\",\"value\":\"nan\"},\"left_units\":\"canvas\",\"right_units\":\"canvas\",\"top_units\":\"canvas\",\"bottom_units\":\"canvas\",\"handles\":{\"type\":\"object\",\"name\":\"BoxInteractionHandles\",\"id\":\"p1428\",\"attributes\":{\"all\":{\"type\":\"object\",\"name\":\"AreaVisuals\",\"id\":\"p1427\",\"attributes\":{\"fill_color\":\"white\",\"hover_fill_color\":\"lightgray\"}}}}}}}},{\"type\":\"object\",\"name\":\"SaveTool\",\"id\":\"p1429\"},{\"type\":\"object\",\"name\":\"ResetTool\",\"id\":\"p1430\"},{\"type\":\"object\",\"name\":\"HelpTool\",\"id\":\"p1431\"}]}},\"left\":[{\"type\":\"object\",\"name\":\"LinearAxis\",\"id\":\"p1414\",\"attributes\":{\"ticker\":{\"type\":\"object\",\"name\":\"BasicTicker\",\"id\":\"p1415\",\"attributes\":{\"mantissas\":[1,2,5]}},\"formatter\":{\"type\":\"object\",\"name\":\"BasicTickFormatter\",\"id\":\"p1416\"},\"axis_label\":\"# of Listens\",\"axis_label_standoff\":10,\"axis_label_text_color\":\"#E0E0E0\",\"axis_label_text_font\":\"Helvetica\",\"axis_label_text_font_size\":\"1.25em\",\"axis_label_text_font_style\":\"normal\",\"major_label_policy\":{\"type\":\"object\",\"name\":\"AllLabels\",\"id\":\"p1417\"},\"major_label_text_color\":\"#E0E0E0\",\"major_label_text_font\":\"Helvetica\",\"major_label_text_font_size\":\"1.025em\",\"axis_line_color\":\"#E0E0E0\",\"axis_line_alpha\":0,\"major_tick_line_color\":\"#E0E0E0\",\"major_tick_line_alpha\":0,\"minor_tick_line_color\":\"#E0E0E0\",\"minor_tick_line_alpha\":0}}],\"below\":[{\"type\":\"object\",\"name\":\"DatetimeAxis\",\"id\":\"p1397\",\"attributes\":{\"ticker\":{\"type\":\"object\",\"name\":\"DatetimeTicker\",\"id\":\"p1398\",\"attributes\":{\"num_minor_ticks\":5,\"tickers\":[{\"type\":\"object\",\"name\":\"AdaptiveTicker\",\"id\":\"p1399\",\"attributes\":{\"num_minor_ticks\":0,\"mantissas\":[1,2,5],\"max_interval\":500.0}},{\"type\":\"object\",\"name\":\"AdaptiveTicker\",\"id\":\"p1400\",\"attributes\":{\"num_minor_ticks\":0,\"base\":60,\"mantissas\":[1,2,5,10,15,20,30],\"min_interval\":1000.0,\"max_interval\":1800000.0}},{\"type\":\"object\",\"name\":\"AdaptiveTicker\",\"id\":\"p1401\",\"attributes\":{\"num_minor_ticks\":0,\"base\":24,\"mantissas\":[1,2,4,6,8,12],\"min_interval\":3600000.0,\"max_interval\":43200000.0}},{\"type\":\"object\",\"name\":\"DaysTicker\",\"id\":\"p1402\",\"attributes\":{\"days\":[1,2,3,4,5,6,7,8,9,10,11,12,13,14,15,16,17,18,19,20,21,22,23,24,25,26,27,28,29,30,31]}},{\"type\":\"object\",\"name\":\"DaysTicker\",\"id\":\"p1403\",\"attributes\":{\"days\":[1,4,7,10,13,16,19,22,25,28]}},{\"type\":\"object\",\"name\":\"DaysTicker\",\"id\":\"p1404\",\"attributes\":{\"days\":[1,8,15,22]}},{\"type\":\"object\",\"name\":\"DaysTicker\",\"id\":\"p1405\",\"attributes\":{\"days\":[1,15]}},{\"type\":\"object\",\"name\":\"MonthsTicker\",\"id\":\"p1406\",\"attributes\":{\"months\":[0,1,2,3,4,5,6,7,8,9,10,11]}},{\"type\":\"object\",\"name\":\"MonthsTicker\",\"id\":\"p1407\",\"attributes\":{\"months\":[0,2,4,6,8,10]}},{\"type\":\"object\",\"name\":\"MonthsTicker\",\"id\":\"p1408\",\"attributes\":{\"months\":[0,4,8]}},{\"type\":\"object\",\"name\":\"MonthsTicker\",\"id\":\"p1409\",\"attributes\":{\"months\":[0,6]}},{\"type\":\"object\",\"name\":\"YearsTicker\",\"id\":\"p1410\"}]}},\"formatter\":{\"type\":\"object\",\"name\":\"DatetimeTickFormatter\",\"id\":\"p1411\"},\"axis_label\":\"Date\",\"axis_label_standoff\":10,\"axis_label_text_color\":\"#E0E0E0\",\"axis_label_text_font\":\"Helvetica\",\"axis_label_text_font_size\":\"1.25em\",\"axis_label_text_font_style\":\"normal\",\"major_label_policy\":{\"type\":\"object\",\"name\":\"AllLabels\",\"id\":\"p1412\"},\"major_label_text_color\":\"#E0E0E0\",\"major_label_text_font\":\"Helvetica\",\"major_label_text_font_size\":\"1.025em\",\"axis_line_color\":\"#E0E0E0\",\"axis_line_alpha\":0,\"major_tick_line_color\":\"#E0E0E0\",\"major_tick_line_alpha\":0,\"minor_tick_line_color\":\"#E0E0E0\",\"minor_tick_line_alpha\":0}}],\"center\":[{\"type\":\"object\",\"name\":\"Grid\",\"id\":\"p1413\",\"attributes\":{\"axis\":{\"id\":\"p1397\"},\"grid_line_color\":\"#E0E0E0\",\"grid_line_alpha\":0.25}},{\"type\":\"object\",\"name\":\"Grid\",\"id\":\"p1418\",\"attributes\":{\"dimension\":1,\"axis\":{\"id\":\"p1414\"},\"grid_line_color\":\"#E0E0E0\",\"grid_line_alpha\":0.25}},{\"type\":\"object\",\"name\":\"Legend\",\"id\":\"p1441\",\"attributes\":{\"location\":\"top_left\",\"border_line_alpha\":0,\"background_fill_color\":\"#20262B\",\"background_fill_alpha\":0.25,\"label_text_color\":\"#E0E0E0\",\"label_text_font\":\"Helvetica\",\"label_text_font_size\":\"1.025em\",\"label_standoff\":8,\"glyph_height\":5,\"glyph_width\":15,\"spacing\":8,\"items\":[{\"type\":\"object\",\"name\":\"LegendItem\",\"id\":\"p1442\",\"attributes\":{\"label\":{\"type\":\"value\",\"value\":\"Audio 002\"},\"renderers\":[{\"id\":\"p1438\"}]}},{\"type\":\"object\",\"name\":\"LegendItem\",\"id\":\"p1452\",\"attributes\":{\"label\":{\"type\":\"value\",\"value\":\"Feel It In The Air (Instrumental)\"},\"renderers\":[{\"id\":\"p1449\"}]}},{\"type\":\"object\",\"name\":\"LegendItem\",\"id\":\"p1462\",\"attributes\":{\"label\":{\"type\":\"value\",\"value\":\"Killswitch Lullaby\"},\"renderers\":[{\"id\":\"p1459\"}]}},{\"type\":\"object\",\"name\":\"LegendItem\",\"id\":\"p1472\",\"attributes\":{\"label\":{\"type\":\"value\",\"value\":\"Stars Will Fall\"},\"renderers\":[{\"id\":\"p1469\"}]}},{\"type\":\"object\",\"name\":\"LegendItem\",\"id\":\"p1482\",\"attributes\":{\"label\":{\"type\":\"value\",\"value\":\"Need 2\"},\"renderers\":[{\"id\":\"p1479\"}]}}]}}],\"background_fill_color\":\"#20262B\",\"border_fill_color\":\"#15191C\"}}]}};\n  const render_items = [{\"docid\":\"ece35bc5-ed97-4e98-91dd-1ec2ef87166e\",\"roots\":{\"p1385\":\"e01aaaba-1fd7-40d8-8242-2ecc4f41110c\"},\"root_ids\":[\"p1385\"]}];\n  void root.Bokeh.embed.embed_items_notebook(docs_json, render_items);\n  }\n  if (root.Bokeh !== undefined) {\n    embed_document(root);\n  } else {\n    let attempts = 0;\n    const timer = setInterval(function(root) {\n      if (root.Bokeh !== undefined) {\n        clearInterval(timer);\n        embed_document(root);\n      } else {\n        attempts++;\n        if (attempts > 100) {\n          clearInterval(timer);\n          console.log(\"Bokeh: ERROR: Unable to run BokehJS code because BokehJS library is missing\");\n        }\n      }\n    }, 10, root)\n  }\n})(window);",
      "application/vnd.bokehjs_exec.v0+json": ""
     },
     "metadata": {
      "application/vnd.bokehjs_exec.v0+json": {
       "id": "p1385"
      }
     },
     "output_type": "display_data"
    },
    {
     "name": "stdout",
     "output_type": "stream",
     "text": [
      "<class 'bokeh.plotting._figure.figure'>\n"
     ]
    },
    {
     "name": "stderr",
     "output_type": "stream",
     "text": [
      "C:\\Users\\jpotr\\AppData\\Local\\Temp\\ipykernel_16396\\3873170367.py:119: UserWarning: pandas only supports SQLAlchemy connectable (engine/connection) or database string URI or sqlite3 DBAPI2 connection. Other DBAPI2 objects are not tested. Please consider using SQLAlchemy.\n",
      "  df = pd.read_sql(sql, self.connection)\n"
     ]
    },
    {
     "data": {
      "text/html": [
       "\n",
       "  <div id=\"f4cd2a2c-45c0-42c2-b4fa-5befd0351afb\" data-root-id=\"p1493\" style=\"display: contents;\"></div>\n"
      ]
     },
     "metadata": {},
     "output_type": "display_data"
    },
    {
     "data": {
      "application/javascript": "(function(root) {\n  function embed_document(root) {\n  const docs_json = {\"c8c0cb64-6f21-4837-afc4-918a26702c2e\":{\"version\":\"3.6.0\",\"title\":\"Bokeh Application\",\"roots\":[{\"type\":\"object\",\"name\":\"Figure\",\"id\":\"p1493\",\"attributes\":{\"width\":1000,\"x_range\":{\"type\":\"object\",\"name\":\"DataRange1d\",\"id\":\"p1494\",\"attributes\":{\"bounds\":[1732983993346.539,1735619193346.539]}},\"y_range\":{\"type\":\"object\",\"name\":\"DataRange1d\",\"id\":\"p1495\",\"attributes\":{\"bounds\":[1,139]}},\"x_scale\":{\"type\":\"object\",\"name\":\"LinearScale\",\"id\":\"p1503\"},\"y_scale\":{\"type\":\"object\",\"name\":\"LinearScale\",\"id\":\"p1504\"},\"title\":{\"type\":\"object\",\"name\":\"Title\",\"id\":\"p1496\",\"attributes\":{\"text\":\"Cumulative listens by genre over the last 30 days\",\"text_color\":\"#E0E0E0\",\"text_font\":\"Helvetica\",\"text_font_size\":\"1.15em\"}},\"outline_line_color\":\"#E0E0E0\",\"outline_line_alpha\":0.25,\"renderers\":[{\"type\":\"object\",\"name\":\"GlyphRenderer\",\"id\":\"p1546\",\"attributes\":{\"data_source\":{\"type\":\"object\",\"name\":\"ColumnDataSource\",\"id\":\"p1540\",\"attributes\":{\"selected\":{\"type\":\"object\",\"name\":\"Selection\",\"id\":\"p1541\",\"attributes\":{\"indices\":[],\"line_indices\":[]}},\"selection_policy\":{\"type\":\"object\",\"name\":\"UnionRenderers\",\"id\":\"p1542\"},\"data\":{\"type\":\"map\",\"entries\":[[\"x\",{\"type\":\"ndarray\",\"array\":{\"type\":\"bytes\",\"data\":\"AFCB2xdAeUIAQMkUdj95QgDw+dAkP3lCAIClTgw/eUIAcFKNyz55QgBgTQ1fPnlCAFDB/Vw+eUIA4GHyXD55QgDwOCbaPXlCAKAKtn49eUIA4CzKMT15QgAwWS27PHlCAHA+yI48eUI=\"},\"shape\":[13],\"dtype\":\"float64\",\"order\":\"little\"}],[\"y\",{\"type\":\"ndarray\",\"array\":{\"type\":\"bytes\",\"data\":\"KwAAACgAAAAeAAAAHQAAABgAAAAUAAAAEwAAABIAAAARAAAADwAAAA0AAAAFAAAAAQAAAA==\"},\"shape\":[13],\"dtype\":\"int32\",\"order\":\"little\"}]]}}},\"view\":{\"type\":\"object\",\"name\":\"CDSView\",\"id\":\"p1547\",\"attributes\":{\"filter\":{\"type\":\"object\",\"name\":\"AllIndices\",\"id\":\"p1548\"}}},\"glyph\":{\"type\":\"object\",\"name\":\"Line\",\"id\":\"p1543\",\"attributes\":{\"x\":{\"type\":\"field\",\"field\":\"x\"},\"y\":{\"type\":\"field\",\"field\":\"y\"},\"line_color\":\"#1f77b4\",\"line_width\":8,\"line_cap\":\"round\"}},\"nonselection_glyph\":{\"type\":\"object\",\"name\":\"Line\",\"id\":\"p1544\",\"attributes\":{\"x\":{\"type\":\"field\",\"field\":\"x\"},\"y\":{\"type\":\"field\",\"field\":\"y\"},\"line_color\":\"#1f77b4\",\"line_alpha\":0.1,\"line_width\":8,\"line_cap\":\"round\"}},\"muted_glyph\":{\"type\":\"object\",\"name\":\"Line\",\"id\":\"p1545\",\"attributes\":{\"x\":{\"type\":\"field\",\"field\":\"x\"},\"y\":{\"type\":\"field\",\"field\":\"y\"},\"line_color\":\"#1f77b4\",\"line_alpha\":0.2,\"line_width\":8,\"line_cap\":\"round\"}}}},{\"type\":\"object\",\"name\":\"GlyphRenderer\",\"id\":\"p1557\",\"attributes\":{\"data_source\":{\"type\":\"object\",\"name\":\"ColumnDataSource\",\"id\":\"p1551\",\"attributes\":{\"selected\":{\"type\":\"object\",\"name\":\"Selection\",\"id\":\"p1552\",\"attributes\":{\"indices\":[],\"line_indices\":[]}},\"selection_policy\":{\"type\":\"object\",\"name\":\"UnionRenderers\",\"id\":\"p1553\"},\"data\":{\"type\":\"map\",\"entries\":[[\"x\",{\"type\":\"ndarray\",\"array\":{\"type\":\"bytes\",\"data\":\"AKCEwRNAeUIAQHJzcj95QgDw/nAkP3lCAHAdggw/eUIAgJDhyz55QgCAh2FfPnlCAGBCCts9eUIA4JyNfz15QgAgyjcyPXlCALBdxhU9eUIAMHkcjzx5Qg==\"},\"shape\":[11],\"dtype\":\"float64\",\"order\":\"little\"}],[\"y\",{\"type\":\"ndarray\",\"array\":{\"type\":\"bytes\",\"data\":\"JAAAACIAAAAYAAAAFwAAAA8AAAAMAAAACwAAAAkAAAAHAAAABgAAAAEAAAA=\"},\"shape\":[11],\"dtype\":\"int32\",\"order\":\"little\"}]]}}},\"view\":{\"type\":\"object\",\"name\":\"CDSView\",\"id\":\"p1558\",\"attributes\":{\"filter\":{\"type\":\"object\",\"name\":\"AllIndices\",\"id\":\"p1559\"}}},\"glyph\":{\"type\":\"object\",\"name\":\"Line\",\"id\":\"p1554\",\"attributes\":{\"x\":{\"type\":\"field\",\"field\":\"x\"},\"y\":{\"type\":\"field\",\"field\":\"y\"},\"line_color\":\"#ff7f0e\",\"line_width\":8,\"line_cap\":\"round\"}},\"nonselection_glyph\":{\"type\":\"object\",\"name\":\"Line\",\"id\":\"p1555\",\"attributes\":{\"x\":{\"type\":\"field\",\"field\":\"x\"},\"y\":{\"type\":\"field\",\"field\":\"y\"},\"line_color\":\"#ff7f0e\",\"line_alpha\":0.1,\"line_width\":8,\"line_cap\":\"round\"}},\"muted_glyph\":{\"type\":\"object\",\"name\":\"Line\",\"id\":\"p1556\",\"attributes\":{\"x\":{\"type\":\"field\",\"field\":\"x\"},\"y\":{\"type\":\"field\",\"field\":\"y\"},\"line_color\":\"#ff7f0e\",\"line_alpha\":0.2,\"line_width\":8,\"line_cap\":\"round\"}}}},{\"type\":\"object\",\"name\":\"GlyphRenderer\",\"id\":\"p1567\",\"attributes\":{\"data_source\":{\"type\":\"object\",\"name\":\"ColumnDataSource\",\"id\":\"p1561\",\"attributes\":{\"selected\":{\"type\":\"object\",\"name\":\"Selection\",\"id\":\"p1562\",\"attributes\":{\"indices\":[],\"line_indices\":[]}},\"selection_policy\":{\"type\":\"object\",\"name\":\"UnionRenderers\",\"id\":\"p1563\"},\"data\":{\"type\":\"map\",\"entries\":[[\"x\",{\"type\":\"ndarray\",\"array\":{\"type\":\"bytes\",\"data\":\"APBz4RpAeUIAMG9mE0B5QgDwFaZ1P3lCADB1WgQ/eUIAkJPUzD55QgDAilRgPnlCACD/0n49eUIAoMf9Kj15QgDAfA+QPHlC\"},\"shape\":[9],\"dtype\":\"float64\",\"order\":\"little\"}],[\"y\",{\"type\":\"ndarray\",\"array\":{\"type\":\"bytes\",\"data\":\"LQAAACoAAAAmAAAAHAAAABkAAAAVAAAAEAAAAAwAAAACAAAA\"},\"shape\":[9],\"dtype\":\"int32\",\"order\":\"little\"}]]}}},\"view\":{\"type\":\"object\",\"name\":\"CDSView\",\"id\":\"p1568\",\"attributes\":{\"filter\":{\"type\":\"object\",\"name\":\"AllIndices\",\"id\":\"p1569\"}}},\"glyph\":{\"type\":\"object\",\"name\":\"Line\",\"id\":\"p1564\",\"attributes\":{\"x\":{\"type\":\"field\",\"field\":\"x\"},\"y\":{\"type\":\"field\",\"field\":\"y\"},\"line_color\":\"#2ca02c\",\"line_width\":8,\"line_cap\":\"round\"}},\"nonselection_glyph\":{\"type\":\"object\",\"name\":\"Line\",\"id\":\"p1565\",\"attributes\":{\"x\":{\"type\":\"field\",\"field\":\"x\"},\"y\":{\"type\":\"field\",\"field\":\"y\"},\"line_color\":\"#2ca02c\",\"line_alpha\":0.1,\"line_width\":8,\"line_cap\":\"round\"}},\"muted_glyph\":{\"type\":\"object\",\"name\":\"Line\",\"id\":\"p1566\",\"attributes\":{\"x\":{\"type\":\"field\",\"field\":\"x\"},\"y\":{\"type\":\"field\",\"field\":\"y\"},\"line_color\":\"#2ca02c\",\"line_alpha\":0.2,\"line_width\":8,\"line_cap\":\"round\"}}}},{\"type\":\"object\",\"name\":\"GlyphRenderer\",\"id\":\"p1577\",\"attributes\":{\"data_source\":{\"type\":\"object\",\"name\":\"ColumnDataSource\",\"id\":\"p1571\",\"attributes\":{\"selected\":{\"type\":\"object\",\"name\":\"Selection\",\"id\":\"p1572\",\"attributes\":{\"indices\":[],\"line_indices\":[]}},\"selection_policy\":{\"type\":\"object\",\"name\":\"UnionRenderers\",\"id\":\"p1573\"},\"data\":{\"type\":\"map\",\"entries\":[[\"x\",{\"type\":\"ndarray\",\"array\":{\"type\":\"bytes\",\"data\":\"AEBmEBtAeUIA4K4NdD95QgAgnYtpP3lCADCxIyU/eUIAANw6Iz95QgCwbp8GP3lCAKAd1nA9eUIAgIYs2Tx5QgBAmiQxPHlC\"},\"shape\":[9],\"dtype\":\"float64\",\"order\":\"little\"}],[\"y\",{\"type\":\"ndarray\",\"array\":{\"type\":\"bytes\",\"data\":\"GQAAABgAAAAXAAAAEQAAAA8AAAANAAAACgAAAAMAAAABAAAA\"},\"shape\":[9],\"dtype\":\"int32\",\"order\":\"little\"}]]}}},\"view\":{\"type\":\"object\",\"name\":\"CDSView\",\"id\":\"p1578\",\"attributes\":{\"filter\":{\"type\":\"object\",\"name\":\"AllIndices\",\"id\":\"p1579\"}}},\"glyph\":{\"type\":\"object\",\"name\":\"Line\",\"id\":\"p1574\",\"attributes\":{\"x\":{\"type\":\"field\",\"field\":\"x\"},\"y\":{\"type\":\"field\",\"field\":\"y\"},\"line_color\":\"#d62728\",\"line_width\":8,\"line_cap\":\"round\"}},\"nonselection_glyph\":{\"type\":\"object\",\"name\":\"Line\",\"id\":\"p1575\",\"attributes\":{\"x\":{\"type\":\"field\",\"field\":\"x\"},\"y\":{\"type\":\"field\",\"field\":\"y\"},\"line_color\":\"#d62728\",\"line_alpha\":0.1,\"line_width\":8,\"line_cap\":\"round\"}},\"muted_glyph\":{\"type\":\"object\",\"name\":\"Line\",\"id\":\"p1576\",\"attributes\":{\"x\":{\"type\":\"field\",\"field\":\"x\"},\"y\":{\"type\":\"field\",\"field\":\"y\"},\"line_color\":\"#d62728\",\"line_alpha\":0.2,\"line_width\":8,\"line_cap\":\"round\"}}}},{\"type\":\"object\",\"name\":\"GlyphRenderer\",\"id\":\"p1587\",\"attributes\":{\"data_source\":{\"type\":\"object\",\"name\":\"ColumnDataSource\",\"id\":\"p1581\",\"attributes\":{\"selected\":{\"type\":\"object\",\"name\":\"Selection\",\"id\":\"p1582\",\"attributes\":{\"indices\":[],\"line_indices\":[]}},\"selection_policy\":{\"type\":\"object\",\"name\":\"UnionRenderers\",\"id\":\"p1583\"},\"data\":{\"type\":\"map\",\"entries\":[[\"x\",{\"type\":\"ndarray\",\"array\":{\"type\":\"bytes\",\"data\":\"ALBSnR1AeUIAMCIjE0B5QgCwkrd2P3lCAIABlXQ/eUIAwAGyZj95QgBQk2YLP3lCAICAewk/eUIAcHEqfj15Qg==\"},\"shape\":[8],\"dtype\":\"float64\",\"order\":\"little\"}],[\"y\",{\"type\":\"ndarray\",\"array\":{\"type\":\"bytes\",\"data\":\"cgAAAGMAAABeAAAAXAAAAFEAAAA2AAAALgAAABwAAAA=\"},\"shape\":[8],\"dtype\":\"int32\",\"order\":\"little\"}]]}}},\"view\":{\"type\":\"object\",\"name\":\"CDSView\",\"id\":\"p1588\",\"attributes\":{\"filter\":{\"type\":\"object\",\"name\":\"AllIndices\",\"id\":\"p1589\"}}},\"glyph\":{\"type\":\"object\",\"name\":\"Line\",\"id\":\"p1584\",\"attributes\":{\"x\":{\"type\":\"field\",\"field\":\"x\"},\"y\":{\"type\":\"field\",\"field\":\"y\"},\"line_color\":\"#9467bd\",\"line_width\":8,\"line_cap\":\"round\"}},\"nonselection_glyph\":{\"type\":\"object\",\"name\":\"Line\",\"id\":\"p1585\",\"attributes\":{\"x\":{\"type\":\"field\",\"field\":\"x\"},\"y\":{\"type\":\"field\",\"field\":\"y\"},\"line_color\":\"#9467bd\",\"line_alpha\":0.1,\"line_width\":8,\"line_cap\":\"round\"}},\"muted_glyph\":{\"type\":\"object\",\"name\":\"Line\",\"id\":\"p1586\",\"attributes\":{\"x\":{\"type\":\"field\",\"field\":\"x\"},\"y\":{\"type\":\"field\",\"field\":\"y\"},\"line_color\":\"#9467bd\",\"line_alpha\":0.2,\"line_width\":8,\"line_cap\":\"round\"}}}}],\"toolbar\":{\"type\":\"object\",\"name\":\"Toolbar\",\"id\":\"p1502\",\"attributes\":{\"tools\":[{\"type\":\"object\",\"name\":\"PanTool\",\"id\":\"p1527\"},{\"type\":\"object\",\"name\":\"WheelZoomTool\",\"id\":\"p1528\",\"attributes\":{\"renderers\":\"auto\"}},{\"type\":\"object\",\"name\":\"BoxZoomTool\",\"id\":\"p1529\",\"attributes\":{\"overlay\":{\"type\":\"object\",\"name\":\"BoxAnnotation\",\"id\":\"p1530\",\"attributes\":{\"syncable\":false,\"line_color\":\"black\",\"line_alpha\":1.0,\"line_width\":2,\"line_dash\":[4,4],\"fill_color\":\"lightgrey\",\"fill_alpha\":0.5,\"level\":\"overlay\",\"visible\":false,\"left\":{\"type\":\"number\",\"value\":\"nan\"},\"right\":{\"type\":\"number\",\"value\":\"nan\"},\"top\":{\"type\":\"number\",\"value\":\"nan\"},\"bottom\":{\"type\":\"number\",\"value\":\"nan\"},\"left_units\":\"canvas\",\"right_units\":\"canvas\",\"top_units\":\"canvas\",\"bottom_units\":\"canvas\",\"handles\":{\"type\":\"object\",\"name\":\"BoxInteractionHandles\",\"id\":\"p1536\",\"attributes\":{\"all\":{\"type\":\"object\",\"name\":\"AreaVisuals\",\"id\":\"p1535\",\"attributes\":{\"fill_color\":\"white\",\"hover_fill_color\":\"lightgray\"}}}}}}}},{\"type\":\"object\",\"name\":\"SaveTool\",\"id\":\"p1537\"},{\"type\":\"object\",\"name\":\"ResetTool\",\"id\":\"p1538\"},{\"type\":\"object\",\"name\":\"HelpTool\",\"id\":\"p1539\"}]}},\"left\":[{\"type\":\"object\",\"name\":\"LinearAxis\",\"id\":\"p1522\",\"attributes\":{\"ticker\":{\"type\":\"object\",\"name\":\"BasicTicker\",\"id\":\"p1523\",\"attributes\":{\"mantissas\":[1,2,5]}},\"formatter\":{\"type\":\"object\",\"name\":\"BasicTickFormatter\",\"id\":\"p1524\"},\"axis_label\":\"# of Listens\",\"axis_label_standoff\":10,\"axis_label_text_color\":\"#E0E0E0\",\"axis_label_text_font\":\"Helvetica\",\"axis_label_text_font_size\":\"1.25em\",\"axis_label_text_font_style\":\"normal\",\"major_label_policy\":{\"type\":\"object\",\"name\":\"AllLabels\",\"id\":\"p1525\"},\"major_label_text_color\":\"#E0E0E0\",\"major_label_text_font\":\"Helvetica\",\"major_label_text_font_size\":\"1.025em\",\"axis_line_color\":\"#E0E0E0\",\"axis_line_alpha\":0,\"major_tick_line_color\":\"#E0E0E0\",\"major_tick_line_alpha\":0,\"minor_tick_line_color\":\"#E0E0E0\",\"minor_tick_line_alpha\":0}}],\"below\":[{\"type\":\"object\",\"name\":\"DatetimeAxis\",\"id\":\"p1505\",\"attributes\":{\"ticker\":{\"type\":\"object\",\"name\":\"DatetimeTicker\",\"id\":\"p1506\",\"attributes\":{\"num_minor_ticks\":5,\"tickers\":[{\"type\":\"object\",\"name\":\"AdaptiveTicker\",\"id\":\"p1507\",\"attributes\":{\"num_minor_ticks\":0,\"mantissas\":[1,2,5],\"max_interval\":500.0}},{\"type\":\"object\",\"name\":\"AdaptiveTicker\",\"id\":\"p1508\",\"attributes\":{\"num_minor_ticks\":0,\"base\":60,\"mantissas\":[1,2,5,10,15,20,30],\"min_interval\":1000.0,\"max_interval\":1800000.0}},{\"type\":\"object\",\"name\":\"AdaptiveTicker\",\"id\":\"p1509\",\"attributes\":{\"num_minor_ticks\":0,\"base\":24,\"mantissas\":[1,2,4,6,8,12],\"min_interval\":3600000.0,\"max_interval\":43200000.0}},{\"type\":\"object\",\"name\":\"DaysTicker\",\"id\":\"p1510\",\"attributes\":{\"days\":[1,2,3,4,5,6,7,8,9,10,11,12,13,14,15,16,17,18,19,20,21,22,23,24,25,26,27,28,29,30,31]}},{\"type\":\"object\",\"name\":\"DaysTicker\",\"id\":\"p1511\",\"attributes\":{\"days\":[1,4,7,10,13,16,19,22,25,28]}},{\"type\":\"object\",\"name\":\"DaysTicker\",\"id\":\"p1512\",\"attributes\":{\"days\":[1,8,15,22]}},{\"type\":\"object\",\"name\":\"DaysTicker\",\"id\":\"p1513\",\"attributes\":{\"days\":[1,15]}},{\"type\":\"object\",\"name\":\"MonthsTicker\",\"id\":\"p1514\",\"attributes\":{\"months\":[0,1,2,3,4,5,6,7,8,9,10,11]}},{\"type\":\"object\",\"name\":\"MonthsTicker\",\"id\":\"p1515\",\"attributes\":{\"months\":[0,2,4,6,8,10]}},{\"type\":\"object\",\"name\":\"MonthsTicker\",\"id\":\"p1516\",\"attributes\":{\"months\":[0,4,8]}},{\"type\":\"object\",\"name\":\"MonthsTicker\",\"id\":\"p1517\",\"attributes\":{\"months\":[0,6]}},{\"type\":\"object\",\"name\":\"YearsTicker\",\"id\":\"p1518\"}]}},\"formatter\":{\"type\":\"object\",\"name\":\"DatetimeTickFormatter\",\"id\":\"p1519\"},\"axis_label\":\"Date\",\"axis_label_standoff\":10,\"axis_label_text_color\":\"#E0E0E0\",\"axis_label_text_font\":\"Helvetica\",\"axis_label_text_font_size\":\"1.25em\",\"axis_label_text_font_style\":\"normal\",\"major_label_policy\":{\"type\":\"object\",\"name\":\"AllLabels\",\"id\":\"p1520\"},\"major_label_text_color\":\"#E0E0E0\",\"major_label_text_font\":\"Helvetica\",\"major_label_text_font_size\":\"1.025em\",\"axis_line_color\":\"#E0E0E0\",\"axis_line_alpha\":0,\"major_tick_line_color\":\"#E0E0E0\",\"major_tick_line_alpha\":0,\"minor_tick_line_color\":\"#E0E0E0\",\"minor_tick_line_alpha\":0}}],\"center\":[{\"type\":\"object\",\"name\":\"Grid\",\"id\":\"p1521\",\"attributes\":{\"axis\":{\"id\":\"p1505\"},\"grid_line_color\":\"#E0E0E0\",\"grid_line_alpha\":0.25}},{\"type\":\"object\",\"name\":\"Grid\",\"id\":\"p1526\",\"attributes\":{\"dimension\":1,\"axis\":{\"id\":\"p1522\"},\"grid_line_color\":\"#E0E0E0\",\"grid_line_alpha\":0.25}},{\"type\":\"object\",\"name\":\"Legend\",\"id\":\"p1549\",\"attributes\":{\"location\":\"top_left\",\"border_line_alpha\":0,\"background_fill_color\":\"#20262B\",\"background_fill_alpha\":0.25,\"label_text_color\":\"#E0E0E0\",\"label_text_font\":\"Helvetica\",\"label_text_font_size\":\"1.025em\",\"label_standoff\":8,\"glyph_height\":5,\"glyph_width\":15,\"spacing\":8,\"items\":[{\"type\":\"object\",\"name\":\"LegendItem\",\"id\":\"p1550\",\"attributes\":{\"label\":{\"type\":\"value\",\"value\":\"corecore\"},\"renderers\":[{\"id\":\"p1546\"}]}},{\"type\":\"object\",\"name\":\"LegendItem\",\"id\":\"p1560\",\"attributes\":{\"label\":{\"type\":\"value\",\"value\":\"ambient lo-fi\"},\"renderers\":[{\"id\":\"p1557\"}]}},{\"type\":\"object\",\"name\":\"LegendItem\",\"id\":\"p1570\",\"attributes\":{\"label\":{\"type\":\"value\",\"value\":\"chill pop\"},\"renderers\":[{\"id\":\"p1567\"}]}},{\"type\":\"object\",\"name\":\"LegendItem\",\"id\":\"p1580\",\"attributes\":{\"label\":{\"type\":\"value\",\"value\":\"art pop\"},\"renderers\":[{\"id\":\"p1577\"}]}},{\"type\":\"object\",\"name\":\"LegendItem\",\"id\":\"p1590\",\"attributes\":{\"label\":{\"type\":\"value\",\"value\":\"countrygaze\"},\"renderers\":[{\"id\":\"p1587\"}]}}]}}],\"background_fill_color\":\"#20262B\",\"border_fill_color\":\"#15191C\"}}]}};\n  const render_items = [{\"docid\":\"c8c0cb64-6f21-4837-afc4-918a26702c2e\",\"roots\":{\"p1493\":\"f4cd2a2c-45c0-42c2-b4fa-5befd0351afb\"},\"root_ids\":[\"p1493\"]}];\n  void root.Bokeh.embed.embed_items_notebook(docs_json, render_items);\n  }\n  if (root.Bokeh !== undefined) {\n    embed_document(root);\n  } else {\n    let attempts = 0;\n    const timer = setInterval(function(root) {\n      if (root.Bokeh !== undefined) {\n        clearInterval(timer);\n        embed_document(root);\n      } else {\n        attempts++;\n        if (attempts > 100) {\n          clearInterval(timer);\n          console.log(\"Bokeh: ERROR: Unable to run BokehJS code because BokehJS library is missing\");\n        }\n      }\n    }, 10, root)\n  }\n})(window);",
      "application/vnd.bokehjs_exec.v0+json": ""
     },
     "metadata": {
      "application/vnd.bokehjs_exec.v0+json": {
       "id": "p1493"
      }
     },
     "output_type": "display_data"
    },
    {
     "name": "stderr",
     "output_type": "stream",
     "text": [
      "C:\\Users\\jpotr\\AppData\\Local\\Temp\\ipykernel_16396\\3873170367.py:69: UserWarning: pandas only supports SQLAlchemy connectable (engine/connection) or database string URI or sqlite3 DBAPI2 connection. Other DBAPI2 objects are not tested. Please consider using SQLAlchemy.\n",
      "  df = pd.read_sql(sql, self.connection)\n"
     ]
    },
    {
     "data": {
      "text/html": [
       "\n",
       "  <div id=\"f3c97463-c15d-40e8-982b-0b95247384b5\" data-root-id=\"p1601\" style=\"display: contents;\"></div>\n"
      ]
     },
     "metadata": {},
     "output_type": "display_data"
    },
    {
     "data": {
      "application/javascript": "(function(root) {\n  function embed_document(root) {\n  const docs_json = {\"8ebd1f72-4c36-4a4d-9f6e-8c8b849f524b\":{\"version\":\"3.6.0\",\"title\":\"Bokeh Application\",\"roots\":[{\"type\":\"object\",\"name\":\"Figure\",\"id\":\"p1601\",\"attributes\":{\"width\":1000,\"x_range\":{\"type\":\"object\",\"name\":\"DataRange1d\",\"id\":\"p1602\",\"attributes\":{\"bounds\":[1732983993532.2039,1735619193532.2039]}},\"y_range\":{\"type\":\"object\",\"name\":\"DataRange1d\",\"id\":\"p1603\",\"attributes\":{\"bounds\":[1,48]}},\"x_scale\":{\"type\":\"object\",\"name\":\"LinearScale\",\"id\":\"p1611\"},\"y_scale\":{\"type\":\"object\",\"name\":\"LinearScale\",\"id\":\"p1612\"},\"title\":{\"type\":\"object\",\"name\":\"Title\",\"id\":\"p1604\",\"attributes\":{\"text\":\"Cumulative listens by artist over the last 30 days\",\"text_color\":\"#E0E0E0\",\"text_font\":\"Helvetica\",\"text_font_size\":\"1.15em\"}},\"outline_line_color\":\"#E0E0E0\",\"outline_line_alpha\":0.25,\"renderers\":[{\"type\":\"object\",\"name\":\"GlyphRenderer\",\"id\":\"p1654\",\"attributes\":{\"data_source\":{\"type\":\"object\",\"name\":\"ColumnDataSource\",\"id\":\"p1648\",\"attributes\":{\"selected\":{\"type\":\"object\",\"name\":\"Selection\",\"id\":\"p1649\",\"attributes\":{\"indices\":[],\"line_indices\":[]}},\"selection_policy\":{\"type\":\"object\",\"name\":\"UnionRenderers\",\"id\":\"p1650\"},\"data\":{\"type\":\"map\",\"entries\":[[\"x\",{\"type\":\"ndarray\",\"array\":{\"type\":\"bytes\",\"data\":\"AIDhsSNAeUIAwFhNHUB5QgCQewYdQHlCANAeohlAeUIAAF5/GEB5QgCAzFkXQHlCAHCQyBRAeUIAoITBE0B5QgCAYp5yP3lCAEByc3I/eUIAsAfvcT95QgCgiARpP3lCAHAvWCs/eUIAkHg+Kj95QgBQpzUpP3lCAPCPGSg/eUIAMLdFJz95QgAQCD4mP3lCAKC5USU/eUIA8P5wJD95QgBwHYIMP3lCAKCpGwo/eUIAQK48BT95QgCA5sUBP3lCAIBckM8+eUIAMIQrzz55QgAgk3vNPnlCAOBnKsw+eUIAgJDhyz55QgAwivtgPnlCAEBgql8+eUIAgIdhXz55QgBgQgrbPXlCAJCRWNo9eUIA4JyNfz15QgBQfYB+PXlCACDKNzI9eUIAsF3GFT15QgBQZ+eSPHlCALD6ZJI8eUIAsHu2kDx5QgAAUWWPPHlCADB5HI88eUI=\"},\"shape\":[43],\"dtype\":\"float64\",\"order\":\"little\"}],[\"y\",{\"type\":\"ndarray\",\"array\":{\"type\":\"bytes\",\"data\":\"KwAAACoAAAApAAAAKAAAACcAAAAmAAAAJQAAACQAAAAjAAAAIgAAACEAAAAgAAAAHwAAAB4AAAAdAAAAHAAAABsAAAAaAAAAGQAAABgAAAAXAAAAFgAAABUAAAAUAAAAEwAAABIAAAARAAAAEAAAAA8AAAAOAAAADQAAAAwAAAALAAAACgAAAAkAAAAIAAAABwAAAAYAAAAFAAAABAAAAAMAAAACAAAAAQAAAA==\"},\"shape\":[43],\"dtype\":\"int32\",\"order\":\"little\"}]]}}},\"view\":{\"type\":\"object\",\"name\":\"CDSView\",\"id\":\"p1655\",\"attributes\":{\"filter\":{\"type\":\"object\",\"name\":\"AllIndices\",\"id\":\"p1656\"}}},\"glyph\":{\"type\":\"object\",\"name\":\"Line\",\"id\":\"p1651\",\"attributes\":{\"x\":{\"type\":\"field\",\"field\":\"x\"},\"y\":{\"type\":\"field\",\"field\":\"y\"},\"line_color\":\"#1f77b4\",\"line_width\":8,\"line_cap\":\"round\"}},\"nonselection_glyph\":{\"type\":\"object\",\"name\":\"Line\",\"id\":\"p1652\",\"attributes\":{\"x\":{\"type\":\"field\",\"field\":\"x\"},\"y\":{\"type\":\"field\",\"field\":\"y\"},\"line_color\":\"#1f77b4\",\"line_alpha\":0.1,\"line_width\":8,\"line_cap\":\"round\"}},\"muted_glyph\":{\"type\":\"object\",\"name\":\"Line\",\"id\":\"p1653\",\"attributes\":{\"x\":{\"type\":\"field\",\"field\":\"x\"},\"y\":{\"type\":\"field\",\"field\":\"y\"},\"line_color\":\"#1f77b4\",\"line_alpha\":0.2,\"line_width\":8,\"line_cap\":\"round\"}}}},{\"type\":\"object\",\"name\":\"GlyphRenderer\",\"id\":\"p1665\",\"attributes\":{\"data_source\":{\"type\":\"object\",\"name\":\"ColumnDataSource\",\"id\":\"p1659\",\"attributes\":{\"selected\":{\"type\":\"object\",\"name\":\"Selection\",\"id\":\"p1660\",\"attributes\":{\"indices\":[],\"line_indices\":[]}},\"selection_policy\":{\"type\":\"object\",\"name\":\"UnionRenderers\",\"id\":\"p1661\"},\"data\":{\"type\":\"map\",\"entries\":[[\"x\",{\"type\":\"ndarray\",\"array\":{\"type\":\"bytes\",\"data\":\"ADBDbyZAeUIA4NxfJUB5QgDwF9gjQHlCAHCV+iBAeUIAMEihHkB5QgBQx1Z3P3lCAECf2io/eUIAcI7XKT95QgAgb5goP3lCAAAauic/eUIAYHLRJj95QgCQe88lP3lCADDx3yQ/eUIAMCfmAz95QgBg7q7aPXlCADAg/TM9eUIAAFOoMj15QgDA1C8UPXlCADAKBd88eUIAsMGh2jx5QgDwvbDZPHlCAGA7jdg8eUIAYI7A1zx5QgBABdPWPHlC\"},\"shape\":[24],\"dtype\":\"float64\",\"order\":\"little\"}],[\"y\",{\"type\":\"ndarray\",\"array\":{\"type\":\"bytes\",\"data\":\"GAAAABcAAAAWAAAAFQAAABQAAAATAAAAEgAAABEAAAAQAAAADwAAAA4AAAANAAAADAAAAAsAAAAKAAAACQAAAAgAAAAHAAAABgAAAAUAAAAEAAAAAwAAAAIAAAABAAAA\"},\"shape\":[24],\"dtype\":\"int32\",\"order\":\"little\"}]]}}},\"view\":{\"type\":\"object\",\"name\":\"CDSView\",\"id\":\"p1666\",\"attributes\":{\"filter\":{\"type\":\"object\",\"name\":\"AllIndices\",\"id\":\"p1667\"}}},\"glyph\":{\"type\":\"object\",\"name\":\"Line\",\"id\":\"p1662\",\"attributes\":{\"x\":{\"type\":\"field\",\"field\":\"x\"},\"y\":{\"type\":\"field\",\"field\":\"y\"},\"line_color\":\"#ff7f0e\",\"line_width\":8,\"line_cap\":\"round\"}},\"nonselection_glyph\":{\"type\":\"object\",\"name\":\"Line\",\"id\":\"p1663\",\"attributes\":{\"x\":{\"type\":\"field\",\"field\":\"x\"},\"y\":{\"type\":\"field\",\"field\":\"y\"},\"line_color\":\"#ff7f0e\",\"line_alpha\":0.1,\"line_width\":8,\"line_cap\":\"round\"}},\"muted_glyph\":{\"type\":\"object\",\"name\":\"Line\",\"id\":\"p1664\",\"attributes\":{\"x\":{\"type\":\"field\",\"field\":\"x\"},\"y\":{\"type\":\"field\",\"field\":\"y\"},\"line_color\":\"#ff7f0e\",\"line_alpha\":0.2,\"line_width\":8,\"line_cap\":\"round\"}}}},{\"type\":\"object\",\"name\":\"GlyphRenderer\",\"id\":\"p1675\",\"attributes\":{\"data_source\":{\"type\":\"object\",\"name\":\"ColumnDataSource\",\"id\":\"p1669\",\"attributes\":{\"selected\":{\"type\":\"object\",\"name\":\"Selection\",\"id\":\"p1670\",\"attributes\":{\"indices\":[],\"line_indices\":[]}},\"selection_policy\":{\"type\":\"object\",\"name\":\"UnionRenderers\",\"id\":\"p1671\"},\"data\":{\"type\":\"map\",\"entries\":[[\"x\",{\"type\":\"ndarray\",\"array\":{\"type\":\"bytes\",\"data\":\"AEDA9yFAeUIAIJteIUB5QgDAB9weQHlCAHBMNhlAeUIAgO8ZGEB5QgDAydlyP3lCAEANd2Y/eUIA8CGcKz95QgAArKEqP3lCALCudig/eUIAsKaXJz95QgAQPKsmP3lCAICSwCQ/eUIAkHBtDD95QgAgANYJP3lCALBBwgY/eUIAAHk9BD95QgAg5eQzPXlCAPCZJjM9eUIAAG19Mj15QgDwnZ8UPXlCAGA1+y48eUI=\"},\"shape\":[22],\"dtype\":\"float64\",\"order\":\"little\"}],[\"y\",{\"type\":\"ndarray\",\"array\":{\"type\":\"bytes\",\"data\":\"FgAAABUAAAAUAAAAEwAAABIAAAARAAAAEAAAAA8AAAAOAAAADQAAAAwAAAALAAAACgAAAAkAAAAIAAAABwAAAAYAAAAFAAAABAAAAAMAAAACAAAAAQAAAA==\"},\"shape\":[22],\"dtype\":\"int32\",\"order\":\"little\"}]]}}},\"view\":{\"type\":\"object\",\"name\":\"CDSView\",\"id\":\"p1676\",\"attributes\":{\"filter\":{\"type\":\"object\",\"name\":\"AllIndices\",\"id\":\"p1677\"}}},\"glyph\":{\"type\":\"object\",\"name\":\"Line\",\"id\":\"p1672\",\"attributes\":{\"x\":{\"type\":\"field\",\"field\":\"x\"},\"y\":{\"type\":\"field\",\"field\":\"y\"},\"line_color\":\"#2ca02c\",\"line_width\":8,\"line_cap\":\"round\"}},\"nonselection_glyph\":{\"type\":\"object\",\"name\":\"Line\",\"id\":\"p1673\",\"attributes\":{\"x\":{\"type\":\"field\",\"field\":\"x\"},\"y\":{\"type\":\"field\",\"field\":\"y\"},\"line_color\":\"#2ca02c\",\"line_alpha\":0.1,\"line_width\":8,\"line_cap\":\"round\"}},\"muted_glyph\":{\"type\":\"object\",\"name\":\"Line\",\"id\":\"p1674\",\"attributes\":{\"x\":{\"type\":\"field\",\"field\":\"x\"},\"y\":{\"type\":\"field\",\"field\":\"y\"},\"line_color\":\"#2ca02c\",\"line_alpha\":0.2,\"line_width\":8,\"line_cap\":\"round\"}}}},{\"type\":\"object\",\"name\":\"GlyphRenderer\",\"id\":\"p1685\",\"attributes\":{\"data_source\":{\"type\":\"object\",\"name\":\"ColumnDataSource\",\"id\":\"p1679\",\"attributes\":{\"selected\":{\"type\":\"object\",\"name\":\"Selection\",\"id\":\"p1680\",\"attributes\":{\"indices\":[],\"line_indices\":[]}},\"selection_policy\":{\"type\":\"object\",\"name\":\"UnionRenderers\",\"id\":\"p1681\"},\"data\":{\"type\":\"map\",\"entries\":[[\"x\",{\"type\":\"ndarray\",\"array\":{\"type\":\"bytes\",\"data\":\"AHC7hhxAeUIAsD3LGUB5QgDAH7UWQHlCABA4FxVAeUIA8LHCEkB5QgBAxs11P3lCAFBNA3I/eUIAEM65aD95QgDQUWoKP3lCAKBE6gk/eUIAgA+sCT95QgBg9cXNPnlCAAByiM0+eUIA4GoIYT55QgCAk6SAPXlCAPB03H09eUIAwPnjFD15QgBw3QCRPHlCAOBZw5A8eUI=\"},\"shape\":[19],\"dtype\":\"float64\",\"order\":\"little\"}],[\"y\",{\"type\":\"ndarray\",\"array\":{\"type\":\"bytes\",\"data\":\"EwAAABIAAAARAAAAEAAAAA8AAAAOAAAADQAAAAwAAAALAAAACgAAAAkAAAAIAAAABwAAAAYAAAAFAAAABAAAAAMAAAACAAAAAQAAAA==\"},\"shape\":[19],\"dtype\":\"int32\",\"order\":\"little\"}]]}}},\"view\":{\"type\":\"object\",\"name\":\"CDSView\",\"id\":\"p1686\",\"attributes\":{\"filter\":{\"type\":\"object\",\"name\":\"AllIndices\",\"id\":\"p1687\"}}},\"glyph\":{\"type\":\"object\",\"name\":\"Line\",\"id\":\"p1682\",\"attributes\":{\"x\":{\"type\":\"field\",\"field\":\"x\"},\"y\":{\"type\":\"field\",\"field\":\"y\"},\"line_color\":\"#d62728\",\"line_width\":8,\"line_cap\":\"round\"}},\"nonselection_glyph\":{\"type\":\"object\",\"name\":\"Line\",\"id\":\"p1683\",\"attributes\":{\"x\":{\"type\":\"field\",\"field\":\"x\"},\"y\":{\"type\":\"field\",\"field\":\"y\"},\"line_color\":\"#d62728\",\"line_alpha\":0.1,\"line_width\":8,\"line_cap\":\"round\"}},\"muted_glyph\":{\"type\":\"object\",\"name\":\"Line\",\"id\":\"p1684\",\"attributes\":{\"x\":{\"type\":\"field\",\"field\":\"x\"},\"y\":{\"type\":\"field\",\"field\":\"y\"},\"line_color\":\"#d62728\",\"line_alpha\":0.2,\"line_width\":8,\"line_cap\":\"round\"}}}},{\"type\":\"object\",\"name\":\"GlyphRenderer\",\"id\":\"p1695\",\"attributes\":{\"data_source\":{\"type\":\"object\",\"name\":\"ColumnDataSource\",\"id\":\"p1689\",\"attributes\":{\"selected\":{\"type\":\"object\",\"name\":\"Selection\",\"id\":\"p1690\",\"attributes\":{\"indices\":[],\"line_indices\":[]}},\"selection_policy\":{\"type\":\"object\",\"name\":\"UnionRenderers\",\"id\":\"p1691\"},\"data\":{\"type\":\"map\",\"entries\":[[\"x\",{\"type\":\"ndarray\",\"array\":{\"type\":\"bytes\",\"data\":\"AFCfrRxAeUIAwCy+GEB5QgAQi5oVQHlCAOCy6HY/eUIAUKUsaD95QgAAtbQIP3lCAJCUngc/eUIAcLP/zD55QgAwqn9gPnlCAEBPdHA9eUIAQILGFD15QgCA+uYTPXlCAFCiQd88eUIA4ER1xTx5QgDAmTqQPHlCAKDnhi48eUI=\"},\"shape\":[16],\"dtype\":\"float64\",\"order\":\"little\"}],[\"y\",{\"type\":\"ndarray\",\"array\":{\"type\":\"bytes\",\"data\":\"EAAAAA8AAAAOAAAADQAAAAwAAAALAAAACgAAAAkAAAAIAAAABwAAAAYAAAAFAAAABAAAAAMAAAACAAAAAQAAAA==\"},\"shape\":[16],\"dtype\":\"int32\",\"order\":\"little\"}]]}}},\"view\":{\"type\":\"object\",\"name\":\"CDSView\",\"id\":\"p1696\",\"attributes\":{\"filter\":{\"type\":\"object\",\"name\":\"AllIndices\",\"id\":\"p1697\"}}},\"glyph\":{\"type\":\"object\",\"name\":\"Line\",\"id\":\"p1692\",\"attributes\":{\"x\":{\"type\":\"field\",\"field\":\"x\"},\"y\":{\"type\":\"field\",\"field\":\"y\"},\"line_color\":\"#9467bd\",\"line_width\":8,\"line_cap\":\"round\"}},\"nonselection_glyph\":{\"type\":\"object\",\"name\":\"Line\",\"id\":\"p1693\",\"attributes\":{\"x\":{\"type\":\"field\",\"field\":\"x\"},\"y\":{\"type\":\"field\",\"field\":\"y\"},\"line_color\":\"#9467bd\",\"line_alpha\":0.1,\"line_width\":8,\"line_cap\":\"round\"}},\"muted_glyph\":{\"type\":\"object\",\"name\":\"Line\",\"id\":\"p1694\",\"attributes\":{\"x\":{\"type\":\"field\",\"field\":\"x\"},\"y\":{\"type\":\"field\",\"field\":\"y\"},\"line_color\":\"#9467bd\",\"line_alpha\":0.2,\"line_width\":8,\"line_cap\":\"round\"}}}}],\"toolbar\":{\"type\":\"object\",\"name\":\"Toolbar\",\"id\":\"p1610\",\"attributes\":{\"tools\":[{\"type\":\"object\",\"name\":\"PanTool\",\"id\":\"p1635\"},{\"type\":\"object\",\"name\":\"WheelZoomTool\",\"id\":\"p1636\",\"attributes\":{\"renderers\":\"auto\"}},{\"type\":\"object\",\"name\":\"BoxZoomTool\",\"id\":\"p1637\",\"attributes\":{\"overlay\":{\"type\":\"object\",\"name\":\"BoxAnnotation\",\"id\":\"p1638\",\"attributes\":{\"syncable\":false,\"line_color\":\"black\",\"line_alpha\":1.0,\"line_width\":2,\"line_dash\":[4,4],\"fill_color\":\"lightgrey\",\"fill_alpha\":0.5,\"level\":\"overlay\",\"visible\":false,\"left\":{\"type\":\"number\",\"value\":\"nan\"},\"right\":{\"type\":\"number\",\"value\":\"nan\"},\"top\":{\"type\":\"number\",\"value\":\"nan\"},\"bottom\":{\"type\":\"number\",\"value\":\"nan\"},\"left_units\":\"canvas\",\"right_units\":\"canvas\",\"top_units\":\"canvas\",\"bottom_units\":\"canvas\",\"handles\":{\"type\":\"object\",\"name\":\"BoxInteractionHandles\",\"id\":\"p1644\",\"attributes\":{\"all\":{\"type\":\"object\",\"name\":\"AreaVisuals\",\"id\":\"p1643\",\"attributes\":{\"fill_color\":\"white\",\"hover_fill_color\":\"lightgray\"}}}}}}}},{\"type\":\"object\",\"name\":\"SaveTool\",\"id\":\"p1645\"},{\"type\":\"object\",\"name\":\"ResetTool\",\"id\":\"p1646\"},{\"type\":\"object\",\"name\":\"HelpTool\",\"id\":\"p1647\"}]}},\"left\":[{\"type\":\"object\",\"name\":\"LinearAxis\",\"id\":\"p1630\",\"attributes\":{\"ticker\":{\"type\":\"object\",\"name\":\"BasicTicker\",\"id\":\"p1631\",\"attributes\":{\"mantissas\":[1,2,5]}},\"formatter\":{\"type\":\"object\",\"name\":\"BasicTickFormatter\",\"id\":\"p1632\"},\"axis_label\":\"# of Listens\",\"axis_label_standoff\":10,\"axis_label_text_color\":\"#E0E0E0\",\"axis_label_text_font\":\"Helvetica\",\"axis_label_text_font_size\":\"1.25em\",\"axis_label_text_font_style\":\"normal\",\"major_label_policy\":{\"type\":\"object\",\"name\":\"AllLabels\",\"id\":\"p1633\"},\"major_label_text_color\":\"#E0E0E0\",\"major_label_text_font\":\"Helvetica\",\"major_label_text_font_size\":\"1.025em\",\"axis_line_color\":\"#E0E0E0\",\"axis_line_alpha\":0,\"major_tick_line_color\":\"#E0E0E0\",\"major_tick_line_alpha\":0,\"minor_tick_line_color\":\"#E0E0E0\",\"minor_tick_line_alpha\":0}}],\"below\":[{\"type\":\"object\",\"name\":\"DatetimeAxis\",\"id\":\"p1613\",\"attributes\":{\"ticker\":{\"type\":\"object\",\"name\":\"DatetimeTicker\",\"id\":\"p1614\",\"attributes\":{\"num_minor_ticks\":5,\"tickers\":[{\"type\":\"object\",\"name\":\"AdaptiveTicker\",\"id\":\"p1615\",\"attributes\":{\"num_minor_ticks\":0,\"mantissas\":[1,2,5],\"max_interval\":500.0}},{\"type\":\"object\",\"name\":\"AdaptiveTicker\",\"id\":\"p1616\",\"attributes\":{\"num_minor_ticks\":0,\"base\":60,\"mantissas\":[1,2,5,10,15,20,30],\"min_interval\":1000.0,\"max_interval\":1800000.0}},{\"type\":\"object\",\"name\":\"AdaptiveTicker\",\"id\":\"p1617\",\"attributes\":{\"num_minor_ticks\":0,\"base\":24,\"mantissas\":[1,2,4,6,8,12],\"min_interval\":3600000.0,\"max_interval\":43200000.0}},{\"type\":\"object\",\"name\":\"DaysTicker\",\"id\":\"p1618\",\"attributes\":{\"days\":[1,2,3,4,5,6,7,8,9,10,11,12,13,14,15,16,17,18,19,20,21,22,23,24,25,26,27,28,29,30,31]}},{\"type\":\"object\",\"name\":\"DaysTicker\",\"id\":\"p1619\",\"attributes\":{\"days\":[1,4,7,10,13,16,19,22,25,28]}},{\"type\":\"object\",\"name\":\"DaysTicker\",\"id\":\"p1620\",\"attributes\":{\"days\":[1,8,15,22]}},{\"type\":\"object\",\"name\":\"DaysTicker\",\"id\":\"p1621\",\"attributes\":{\"days\":[1,15]}},{\"type\":\"object\",\"name\":\"MonthsTicker\",\"id\":\"p1622\",\"attributes\":{\"months\":[0,1,2,3,4,5,6,7,8,9,10,11]}},{\"type\":\"object\",\"name\":\"MonthsTicker\",\"id\":\"p1623\",\"attributes\":{\"months\":[0,2,4,6,8,10]}},{\"type\":\"object\",\"name\":\"MonthsTicker\",\"id\":\"p1624\",\"attributes\":{\"months\":[0,4,8]}},{\"type\":\"object\",\"name\":\"MonthsTicker\",\"id\":\"p1625\",\"attributes\":{\"months\":[0,6]}},{\"type\":\"object\",\"name\":\"YearsTicker\",\"id\":\"p1626\"}]}},\"formatter\":{\"type\":\"object\",\"name\":\"DatetimeTickFormatter\",\"id\":\"p1627\"},\"axis_label\":\"Date\",\"axis_label_standoff\":10,\"axis_label_text_color\":\"#E0E0E0\",\"axis_label_text_font\":\"Helvetica\",\"axis_label_text_font_size\":\"1.25em\",\"axis_label_text_font_style\":\"normal\",\"major_label_policy\":{\"type\":\"object\",\"name\":\"AllLabels\",\"id\":\"p1628\"},\"major_label_text_color\":\"#E0E0E0\",\"major_label_text_font\":\"Helvetica\",\"major_label_text_font_size\":\"1.025em\",\"axis_line_color\":\"#E0E0E0\",\"axis_line_alpha\":0,\"major_tick_line_color\":\"#E0E0E0\",\"major_tick_line_alpha\":0,\"minor_tick_line_color\":\"#E0E0E0\",\"minor_tick_line_alpha\":0}}],\"center\":[{\"type\":\"object\",\"name\":\"Grid\",\"id\":\"p1629\",\"attributes\":{\"axis\":{\"id\":\"p1613\"},\"grid_line_color\":\"#E0E0E0\",\"grid_line_alpha\":0.25}},{\"type\":\"object\",\"name\":\"Grid\",\"id\":\"p1634\",\"attributes\":{\"dimension\":1,\"axis\":{\"id\":\"p1630\"},\"grid_line_color\":\"#E0E0E0\",\"grid_line_alpha\":0.25}},{\"type\":\"object\",\"name\":\"Legend\",\"id\":\"p1657\",\"attributes\":{\"location\":\"top_left\",\"border_line_alpha\":0,\"background_fill_color\":\"#20262B\",\"background_fill_alpha\":0.25,\"label_text_color\":\"#E0E0E0\",\"label_text_font\":\"Helvetica\",\"label_text_font_size\":\"1.025em\",\"label_standoff\":8,\"glyph_height\":5,\"glyph_width\":15,\"spacing\":8,\"items\":[{\"type\":\"object\",\"name\":\"LegendItem\",\"id\":\"p1658\",\"attributes\":{\"label\":{\"type\":\"value\",\"value\":\"Flawed Mangoes\"},\"renderers\":[{\"id\":\"p1654\"}]}},{\"type\":\"object\",\"name\":\"LegendItem\",\"id\":\"p1668\",\"attributes\":{\"label\":{\"type\":\"value\",\"value\":\"sign crushes motorist\"},\"renderers\":[{\"id\":\"p1665\"}]}},{\"type\":\"object\",\"name\":\"LegendItem\",\"id\":\"p1678\",\"attributes\":{\"label\":{\"type\":\"value\",\"value\":\"i don't like mirrors\"},\"renderers\":[{\"id\":\"p1675\"}]}},{\"type\":\"object\",\"name\":\"LegendItem\",\"id\":\"p1688\",\"attributes\":{\"label\":{\"type\":\"value\",\"value\":\"core\\u00b2\"},\"renderers\":[{\"id\":\"p1685\"}]}},{\"type\":\"object\",\"name\":\"LegendItem\",\"id\":\"p1698\",\"attributes\":{\"label\":{\"type\":\"value\",\"value\":\"Unjaps\"},\"renderers\":[{\"id\":\"p1695\"}]}}]}}],\"background_fill_color\":\"#20262B\",\"border_fill_color\":\"#15191C\"}}]}};\n  const render_items = [{\"docid\":\"8ebd1f72-4c36-4a4d-9f6e-8c8b849f524b\",\"roots\":{\"p1601\":\"f3c97463-c15d-40e8-982b-0b95247384b5\"},\"root_ids\":[\"p1601\"]}];\n  void root.Bokeh.embed.embed_items_notebook(docs_json, render_items);\n  }\n  if (root.Bokeh !== undefined) {\n    embed_document(root);\n  } else {\n    let attempts = 0;\n    const timer = setInterval(function(root) {\n      if (root.Bokeh !== undefined) {\n        clearInterval(timer);\n        embed_document(root);\n      } else {\n        attempts++;\n        if (attempts > 100) {\n          clearInterval(timer);\n          console.log(\"Bokeh: ERROR: Unable to run BokehJS code because BokehJS library is missing\");\n        }\n      }\n    }, 10, root)\n  }\n})(window);",
      "application/vnd.bokehjs_exec.v0+json": ""
     },
     "metadata": {
      "application/vnd.bokehjs_exec.v0+json": {
       "id": "p1601"
      }
     },
     "output_type": "display_data"
    }
   ],
   "source": [
    "days_back = 30\n",
    "\n",
    "insights = Insights(connection, 'bodhi_monster')\n",
    "# output_notebook()\n",
    "#Work\n",
    "insights.cumulative_listens_by_song(days_back)\n",
    "insights.cumulative_listens_by_genre(days_back)\n",
    "# insights.cumulative_minutes_by_song(days_back)\n",
    "# insights.cumulative_minutes_by_artist(days_back)\n",
    "insights.cumulative_listens_by_artist(days_back)\n",
    "# insights.cumulative_minutes_by_genre(days_back)\n",
    "#Fix\n",
    "\n",
    "# insights.plot_bokeh(df, 'cumulative_listens', f'Cumulative listens by song over the last {days_back} days', 'song_fk', 'name', 'Cumulative listens', 5, days_back)\n",
    "\n",
    "\n"
   ]
  },
  {
   "cell_type": "code",
   "execution_count": 7,
   "metadata": {},
   "outputs": [
    {
     "name": "stderr",
     "output_type": "stream",
     "text": [
      "C:\\Users\\jpotr\\AppData\\Local\\Temp\\ipykernel_13968\\71363479.py:92: UserWarning: pandas only supports SQLAlchemy connectable (engine/connection) or database string URI or sqlite3 DBAPI2 connection. Other DBAPI2 objects are not tested. Please consider using SQLAlchemy.\n",
      "  df = pd.read_sql(sql, self.connection)\n"
     ]
    },
    {
     "name": "stdout",
     "output_type": "stream",
     "text": [
      "<class 'bokeh.plotting._figure.figure'>\n",
      "<class 'bokeh.plotting._figure.figure'>\n"
     ]
    }
   ],
   "source": [
    "from bokeh.embed import json_item\n",
    "import json\n",
    "t = insights.cumulative_listens_by_song(days_back)\n",
    "# (t, filename='example_plot.png')\n",
    "# print(type(t))\n",
    "temp = json.dumps(json_item(t, 'example_plot'))\n",
    "\n",
    "with open('example_plot.json', 'w') as writer:\n",
    "    writer.write(temp)"
   ]
  },
  {
   "cell_type": "code",
   "execution_count": 15,
   "metadata": {},
   "outputs": [
    {
     "name": "stdout",
     "output_type": "stream",
     "text": [
      "3.6.0\n"
     ]
    }
   ],
   "source": [
    "# with open('example_plot.json', 'w') as writer:\n",
    "#     writer.write(temp)\n",
    "\n",
    "import bokeh\n",
    "print(bokeh.__version__)"
   ]
  }
 ],
 "metadata": {
  "kernelspec": {
   "display_name": "localmusicenv (3.12.3)",
   "language": "python",
   "name": "python3"
  },
  "language_info": {
   "codemirror_mode": {
    "name": "ipython",
    "version": 3
   },
   "file_extension": ".py",
   "mimetype": "text/x-python",
   "name": "python",
   "nbconvert_exporter": "python",
   "pygments_lexer": "ipython3",
   "version": "3.12.3"
  }
 },
 "nbformat": 4,
 "nbformat_minor": 2
}
